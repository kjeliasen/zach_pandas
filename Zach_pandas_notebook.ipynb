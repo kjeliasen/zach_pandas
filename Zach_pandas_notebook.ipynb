{
 "cells": [
  {
   "cell_type": "markdown",
   "metadata": {},
   "source": [
    "# Zach Gulde's sqlite3/pandas Exercises"
   ]
  },
  {
   "cell_type": "markdown",
   "metadata": {},
   "source": [
    "# Purpose\n",
    "\n",
    "Reviewing tutorial prepared by Zach Gulde."
   ]
  },
  {
   "cell_type": "markdown",
   "metadata": {},
   "source": [
    "## Environment Setup"
   ]
  },
  {
   "cell_type": "code",
   "execution_count": 1,
   "metadata": {},
   "outputs": [],
   "source": [
    "import pandas as pd\n",
    "import sqlite3\n"
   ]
  },
  {
   "cell_type": "code",
   "execution_count": 2,
   "metadata": {},
   "outputs": [],
   "source": [
    "# show_df command displays info and head functions\n",
    "def show_df(df, heads=5):\n",
    "    if heads > len(df):\n",
    "        heads = len(df)\n",
    "    print(df.info())\n",
    "    display(df.head(heads))"
   ]
  },
  {
   "cell_type": "markdown",
   "metadata": {},
   "source": [
    "## Getting the Data Into Pandas"
   ]
  },
  {
   "cell_type": "markdown",
   "metadata": {},
   "source": [
    "The `sqlite3` module is part of the python standard library, so you shouldn't\n",
    "need to install anything.\n",
    "\n",
    "```python\n",
    "import pandas as pd\n",
    "import sqlite3\n",
    "\n",
    "connection = sqlite3.connect('pizza.sqlite') # or specify the path to the db file\n",
    "\n",
    "pizzas = pd.read_sql('SELECT * FROM pizzas', connection)\n",
    "```"
   ]
  },
  {
   "cell_type": "code",
   "execution_count": 3,
   "metadata": {},
   "outputs": [],
   "source": [
    "connection = sqlite3.connect('pizza.sqlite') # or specify the path to the db file"
   ]
  },
  {
   "cell_type": "markdown",
   "metadata": {},
   "source": [
    "## Exploration"
   ]
  },
  {
   "cell_type": "markdown",
   "metadata": {},
   "source": [
    "Get structure of database"
   ]
  },
  {
   "cell_type": "code",
   "execution_count": 4,
   "metadata": {},
   "outputs": [
    {
     "output_type": "display_data",
     "data": {
      "text/plain": "    type                                name         tbl_name  rootpage  \\\n0  table                         crust_types      crust_types         2   \n1  table                               sizes            sizes         3   \n2  table                            toppings         toppings         4   \n3  table                           modifiers        modifiers         5   \n4  table                              pizzas           pizzas         6   \n5  table                     pizza_topppings  pizza_topppings         7   \n6  index  sqlite_autoindex_pizza_topppings_1  pizza_topppings         8   \n7  table                     pizza_modifiers  pizza_modifiers         9   \n8  index  sqlite_autoindex_pizza_modifiers_1  pizza_modifiers        10   \n9  table                      pizza_toppings   pizza_toppings        77   \n\n                                                 sql  \n0  CREATE TABLE crust_types(\\n    crust_type_id I...  \n1  CREATE TABLE sizes(\\n    size_id INTEGER PRIMA...  \n2  CREATE TABLE toppings(\\n    topping_id INTEGER...  \n3  CREATE TABLE modifiers(\\n    modifier_id INTEG...  \n4  CREATE TABLE pizzas(\\n    pizza_id INTEGER PRI...  \n5  CREATE TABLE pizza_topppings(\\n    pizza_id IN...  \n6                                               None  \n7  CREATE TABLE pizza_modifiers(\\n    pizza_id IN...  \n8                                               None  \n9  CREATE TABLE \"pizza_toppings\" (\\n\"pizza_id\" IN...  ",
      "text/html": "<div>\n<style scoped>\n    .dataframe tbody tr th:only-of-type {\n        vertical-align: middle;\n    }\n\n    .dataframe tbody tr th {\n        vertical-align: top;\n    }\n\n    .dataframe thead th {\n        text-align: right;\n    }\n</style>\n<table border=\"1\" class=\"dataframe\">\n  <thead>\n    <tr style=\"text-align: right;\">\n      <th></th>\n      <th>type</th>\n      <th>name</th>\n      <th>tbl_name</th>\n      <th>rootpage</th>\n      <th>sql</th>\n    </tr>\n  </thead>\n  <tbody>\n    <tr>\n      <th>0</th>\n      <td>table</td>\n      <td>crust_types</td>\n      <td>crust_types</td>\n      <td>2</td>\n      <td>CREATE TABLE crust_types(\\n    crust_type_id I...</td>\n    </tr>\n    <tr>\n      <th>1</th>\n      <td>table</td>\n      <td>sizes</td>\n      <td>sizes</td>\n      <td>3</td>\n      <td>CREATE TABLE sizes(\\n    size_id INTEGER PRIMA...</td>\n    </tr>\n    <tr>\n      <th>2</th>\n      <td>table</td>\n      <td>toppings</td>\n      <td>toppings</td>\n      <td>4</td>\n      <td>CREATE TABLE toppings(\\n    topping_id INTEGER...</td>\n    </tr>\n    <tr>\n      <th>3</th>\n      <td>table</td>\n      <td>modifiers</td>\n      <td>modifiers</td>\n      <td>5</td>\n      <td>CREATE TABLE modifiers(\\n    modifier_id INTEG...</td>\n    </tr>\n    <tr>\n      <th>4</th>\n      <td>table</td>\n      <td>pizzas</td>\n      <td>pizzas</td>\n      <td>6</td>\n      <td>CREATE TABLE pizzas(\\n    pizza_id INTEGER PRI...</td>\n    </tr>\n    <tr>\n      <th>5</th>\n      <td>table</td>\n      <td>pizza_topppings</td>\n      <td>pizza_topppings</td>\n      <td>7</td>\n      <td>CREATE TABLE pizza_topppings(\\n    pizza_id IN...</td>\n    </tr>\n    <tr>\n      <th>6</th>\n      <td>index</td>\n      <td>sqlite_autoindex_pizza_topppings_1</td>\n      <td>pizza_topppings</td>\n      <td>8</td>\n      <td>None</td>\n    </tr>\n    <tr>\n      <th>7</th>\n      <td>table</td>\n      <td>pizza_modifiers</td>\n      <td>pizza_modifiers</td>\n      <td>9</td>\n      <td>CREATE TABLE pizza_modifiers(\\n    pizza_id IN...</td>\n    </tr>\n    <tr>\n      <th>8</th>\n      <td>index</td>\n      <td>sqlite_autoindex_pizza_modifiers_1</td>\n      <td>pizza_modifiers</td>\n      <td>10</td>\n      <td>None</td>\n    </tr>\n    <tr>\n      <th>9</th>\n      <td>table</td>\n      <td>pizza_toppings</td>\n      <td>pizza_toppings</td>\n      <td>77</td>\n      <td>CREATE TABLE \"pizza_toppings\" (\\n\"pizza_id\" IN...</td>\n    </tr>\n  </tbody>\n</table>\n</div>"
     },
     "metadata": {}
    }
   ],
   "source": [
    "pizza_master = pd.read_sql('SELECT * FROM sqlite_master', connection)\n",
    "display(pizza_master)"
   ]
  },
  {
   "cell_type": "markdown",
   "metadata": {},
   "source": [
    "get list of tables, use loops to spit out code for creating and displaying DataFrames from sqlite3"
   ]
  },
  {
   "cell_type": "code",
   "execution_count": 5,
   "metadata": {},
   "outputs": [],
   "source": [
    "pizza_tables = pizza_master[pizza_master.type == 'table'].name.to_list()"
   ]
  },
  {
   "cell_type": "code",
   "execution_count": 6,
   "metadata": {
    "tags": []
   },
   "outputs": [
    {
     "output_type": "stream",
     "name": "stdout",
     "text": "crust_types = pd.read_sql('SELECT * FROM crust_types ', connection)\nsizes = pd.read_sql('SELECT * FROM sizes ', connection)\ntoppings = pd.read_sql('SELECT * FROM toppings ', connection)\nmodifiers = pd.read_sql('SELECT * FROM modifiers ', connection)\npizzas = pd.read_sql('SELECT * FROM pizzas ', connection)\npizza_topppings = pd.read_sql('SELECT * FROM pizza_topppings ', connection)\npizza_modifiers = pd.read_sql('SELECT * FROM pizza_modifiers ', connection)\npizza_toppings = pd.read_sql('SELECT * FROM pizza_toppings ', connection)\n"
    }
   ],
   "source": [
    "# loop through to get create commands\n",
    "for t in pizza_tables:\n",
    "    print(t, '= pd.read_sql(\\'SELECT * FROM', t, '\\', connection)')"
   ]
  },
  {
   "cell_type": "code",
   "execution_count": 7,
   "metadata": {},
   "outputs": [],
   "source": [
    "crust_types = pd.read_sql('SELECT * FROM crust_types ', connection)\n",
    "sizes = pd.read_sql('SELECT * FROM sizes ', connection)\n",
    "toppings = pd.read_sql('SELECT * FROM toppings ', connection)\n",
    "modifiers = pd.read_sql('SELECT * FROM modifiers ', connection)\n",
    "pizzas = pd.read_sql('SELECT * FROM pizzas ', connection)\n",
    "pizza_toppings = pd.read_sql('SELECT * FROM pizza_toppings ', connection)\n",
    "pizza_modifiers = pd.read_sql('SELECT * FROM pizza_modifiers ', connection)"
   ]
  },
  {
   "cell_type": "code",
   "execution_count": 8,
   "metadata": {
    "tags": []
   },
   "outputs": [
    {
     "output_type": "stream",
     "name": "stdout",
     "text": "show_df(crust_types)\nshow_df(sizes)\nshow_df(toppings)\nshow_df(modifiers)\nshow_df(pizzas)\nshow_df(pizza_topppings)\nshow_df(pizza_modifiers)\nshow_df(pizza_toppings)\n"
    }
   ],
   "source": [
    "# loop throught to get show_df commands\n",
    "for t in pizza_tables:\n",
    "    print('show_df('+t+')')"
   ]
  },
  {
   "cell_type": "markdown",
   "metadata": {},
   "source": [
    "### crust_types"
   ]
  },
  {
   "cell_type": "code",
   "execution_count": 9,
   "metadata": {
    "tags": []
   },
   "outputs": [
    {
     "output_type": "stream",
     "name": "stdout",
     "text": "<class 'pandas.core.frame.DataFrame'>\nRangeIndex: 2 entries, 0 to 1\nData columns (total 2 columns):\n #   Column           Non-Null Count  Dtype \n---  ------           --------------  ----- \n 0   crust_type_id    2 non-null      int64 \n 1   crust_type_name  2 non-null      object\ndtypes: int64(1), object(1)\nmemory usage: 160.0+ bytes\nNone\n"
    },
    {
     "output_type": "display_data",
     "data": {
      "text/plain": "   crust_type_id  crust_type_name\n0              1      hand-tossed\n1              2  thin and crispy",
      "text/html": "<div>\n<style scoped>\n    .dataframe tbody tr th:only-of-type {\n        vertical-align: middle;\n    }\n\n    .dataframe tbody tr th {\n        vertical-align: top;\n    }\n\n    .dataframe thead th {\n        text-align: right;\n    }\n</style>\n<table border=\"1\" class=\"dataframe\">\n  <thead>\n    <tr style=\"text-align: right;\">\n      <th></th>\n      <th>crust_type_id</th>\n      <th>crust_type_name</th>\n    </tr>\n  </thead>\n  <tbody>\n    <tr>\n      <th>0</th>\n      <td>1</td>\n      <td>hand-tossed</td>\n    </tr>\n    <tr>\n      <th>1</th>\n      <td>2</td>\n      <td>thin and crispy</td>\n    </tr>\n  </tbody>\n</table>\n</div>"
     },
     "metadata": {}
    }
   ],
   "source": [
    "show_df(crust_types)"
   ]
  },
  {
   "cell_type": "markdown",
   "metadata": {},
   "source": [
    "***strictly a lookup table***"
   ]
  },
  {
   "cell_type": "markdown",
   "metadata": {},
   "source": [
    "### sizes"
   ]
  },
  {
   "cell_type": "code",
   "execution_count": 10,
   "metadata": {
    "tags": []
   },
   "outputs": [
    {
     "output_type": "stream",
     "name": "stdout",
     "text": "<class 'pandas.core.frame.DataFrame'>\nRangeIndex: 4 entries, 0 to 3\nData columns (total 3 columns):\n #   Column      Non-Null Count  Dtype  \n---  ------      --------------  -----  \n 0   size_id     4 non-null      int64  \n 1   size_name   4 non-null      object \n 2   size_price  4 non-null      float64\ndtypes: float64(1), int64(1), object(1)\nmemory usage: 224.0+ bytes\nNone\n"
    },
    {
     "output_type": "display_data",
     "data": {
      "text/plain": "   size_id size_name  size_price\n0        1     small        8.99\n1        2    medium       10.99\n2        3     large       12.99\n3        4   x-large       14.99",
      "text/html": "<div>\n<style scoped>\n    .dataframe tbody tr th:only-of-type {\n        vertical-align: middle;\n    }\n\n    .dataframe tbody tr th {\n        vertical-align: top;\n    }\n\n    .dataframe thead th {\n        text-align: right;\n    }\n</style>\n<table border=\"1\" class=\"dataframe\">\n  <thead>\n    <tr style=\"text-align: right;\">\n      <th></th>\n      <th>size_id</th>\n      <th>size_name</th>\n      <th>size_price</th>\n    </tr>\n  </thead>\n  <tbody>\n    <tr>\n      <th>0</th>\n      <td>1</td>\n      <td>small</td>\n      <td>8.99</td>\n    </tr>\n    <tr>\n      <th>1</th>\n      <td>2</td>\n      <td>medium</td>\n      <td>10.99</td>\n    </tr>\n    <tr>\n      <th>2</th>\n      <td>3</td>\n      <td>large</td>\n      <td>12.99</td>\n    </tr>\n    <tr>\n      <th>3</th>\n      <td>4</td>\n      <td>x-large</td>\n      <td>14.99</td>\n    </tr>\n  </tbody>\n</table>\n</div>"
     },
     "metadata": {}
    }
   ],
   "source": [
    "show_df(sizes)"
   ]
  },
  {
   "cell_type": "markdown",
   "metadata": {},
   "source": [
    "***strictly a lookup table***"
   ]
  },
  {
   "cell_type": "markdown",
   "metadata": {},
   "source": [
    "### toppings"
   ]
  },
  {
   "cell_type": "code",
   "execution_count": 11,
   "metadata": {
    "scrolled": true,
    "tags": []
   },
   "outputs": [
    {
     "output_type": "stream",
     "name": "stdout",
     "text": "<class 'pandas.core.frame.DataFrame'>\nRangeIndex: 9 entries, 0 to 8\nData columns (total 3 columns):\n #   Column         Non-Null Count  Dtype  \n---  ------         --------------  -----  \n 0   topping_id     9 non-null      int64  \n 1   topping_name   9 non-null      object \n 2   topping_price  9 non-null      float64\ndtypes: float64(1), int64(1), object(1)\nmemory usage: 344.0+ bytes\nNone\n"
    },
    {
     "output_type": "display_data",
     "data": {
      "text/plain": "   topping_id    topping_name  topping_price\n0           1       pepperoni           0.99\n1           2         sausage           0.99\n2           3           bacon           0.99\n3           4  canadian bacon           0.99\n4           5           onion           0.49",
      "text/html": "<div>\n<style scoped>\n    .dataframe tbody tr th:only-of-type {\n        vertical-align: middle;\n    }\n\n    .dataframe tbody tr th {\n        vertical-align: top;\n    }\n\n    .dataframe thead th {\n        text-align: right;\n    }\n</style>\n<table border=\"1\" class=\"dataframe\">\n  <thead>\n    <tr style=\"text-align: right;\">\n      <th></th>\n      <th>topping_id</th>\n      <th>topping_name</th>\n      <th>topping_price</th>\n    </tr>\n  </thead>\n  <tbody>\n    <tr>\n      <th>0</th>\n      <td>1</td>\n      <td>pepperoni</td>\n      <td>0.99</td>\n    </tr>\n    <tr>\n      <th>1</th>\n      <td>2</td>\n      <td>sausage</td>\n      <td>0.99</td>\n    </tr>\n    <tr>\n      <th>2</th>\n      <td>3</td>\n      <td>bacon</td>\n      <td>0.99</td>\n    </tr>\n    <tr>\n      <th>3</th>\n      <td>4</td>\n      <td>canadian bacon</td>\n      <td>0.99</td>\n    </tr>\n    <tr>\n      <th>4</th>\n      <td>5</td>\n      <td>onion</td>\n      <td>0.49</td>\n    </tr>\n  </tbody>\n</table>\n</div>"
     },
     "metadata": {}
    }
   ],
   "source": [
    "show_df(toppings)"
   ]
  },
  {
   "cell_type": "code",
   "execution_count": 12,
   "metadata": {},
   "outputs": [],
   "source": [
    "## strictly a lookup table"
   ]
  },
  {
   "cell_type": "markdown",
   "metadata": {},
   "source": [
    "### modifiers"
   ]
  },
  {
   "cell_type": "code",
   "execution_count": 13,
   "metadata": {
    "tags": []
   },
   "outputs": [
    {
     "output_type": "stream",
     "name": "stdout",
     "text": "<class 'pandas.core.frame.DataFrame'>\nRangeIndex: 3 entries, 0 to 2\nData columns (total 3 columns):\n #   Column          Non-Null Count  Dtype  \n---  ------          --------------  -----  \n 0   modifier_id     3 non-null      int64  \n 1   modifier_name   3 non-null      object \n 2   modifier_price  3 non-null      float64\ndtypes: float64(1), int64(1), object(1)\nmemory usage: 200.0+ bytes\nNone\n"
    },
    {
     "output_type": "display_data",
     "data": {
      "text/plain": "   modifier_id modifier_name  modifier_price\n0            1  extra cheese            1.99\n1            2     well done            0.00\n2            3     no cheese            0.00",
      "text/html": "<div>\n<style scoped>\n    .dataframe tbody tr th:only-of-type {\n        vertical-align: middle;\n    }\n\n    .dataframe tbody tr th {\n        vertical-align: top;\n    }\n\n    .dataframe thead th {\n        text-align: right;\n    }\n</style>\n<table border=\"1\" class=\"dataframe\">\n  <thead>\n    <tr style=\"text-align: right;\">\n      <th></th>\n      <th>modifier_id</th>\n      <th>modifier_name</th>\n      <th>modifier_price</th>\n    </tr>\n  </thead>\n  <tbody>\n    <tr>\n      <th>0</th>\n      <td>1</td>\n      <td>extra cheese</td>\n      <td>1.99</td>\n    </tr>\n    <tr>\n      <th>1</th>\n      <td>2</td>\n      <td>well done</td>\n      <td>0.00</td>\n    </tr>\n    <tr>\n      <th>2</th>\n      <td>3</td>\n      <td>no cheese</td>\n      <td>0.00</td>\n    </tr>\n  </tbody>\n</table>\n</div>"
     },
     "metadata": {}
    }
   ],
   "source": [
    "show_df(modifiers)"
   ]
  },
  {
   "cell_type": "code",
   "execution_count": 14,
   "metadata": {},
   "outputs": [],
   "source": [
    "## strictly a lookup table"
   ]
  },
  {
   "cell_type": "markdown",
   "metadata": {},
   "source": [
    "### pizzas"
   ]
  },
  {
   "cell_type": "code",
   "execution_count": 15,
   "metadata": {
    "tags": []
   },
   "outputs": [
    {
     "output_type": "stream",
     "name": "stdout",
     "text": "<class 'pandas.core.frame.DataFrame'>\nRangeIndex: 19934 entries, 0 to 19933\nData columns (total 4 columns):\n #   Column         Non-Null Count  Dtype\n---  ------         --------------  -----\n 0   pizza_id       19934 non-null  int64\n 1   order_id       19934 non-null  int64\n 2   crust_type_id  19934 non-null  int64\n 3   size_id        19934 non-null  int64\ndtypes: int64(4)\nmemory usage: 623.1 KB\nNone\n"
    },
    {
     "output_type": "display_data",
     "data": {
      "text/plain": "   pizza_id  order_id  crust_type_id  size_id\n0      1001      1001              2        1\n1      1002      1001              2        2\n2      1003      1002              1        4\n3      1004      1002              1        2\n4      1005      1002              2        4",
      "text/html": "<div>\n<style scoped>\n    .dataframe tbody tr th:only-of-type {\n        vertical-align: middle;\n    }\n\n    .dataframe tbody tr th {\n        vertical-align: top;\n    }\n\n    .dataframe thead th {\n        text-align: right;\n    }\n</style>\n<table border=\"1\" class=\"dataframe\">\n  <thead>\n    <tr style=\"text-align: right;\">\n      <th></th>\n      <th>pizza_id</th>\n      <th>order_id</th>\n      <th>crust_type_id</th>\n      <th>size_id</th>\n    </tr>\n  </thead>\n  <tbody>\n    <tr>\n      <th>0</th>\n      <td>1001</td>\n      <td>1001</td>\n      <td>2</td>\n      <td>1</td>\n    </tr>\n    <tr>\n      <th>1</th>\n      <td>1002</td>\n      <td>1001</td>\n      <td>2</td>\n      <td>2</td>\n    </tr>\n    <tr>\n      <th>2</th>\n      <td>1003</td>\n      <td>1002</td>\n      <td>1</td>\n      <td>4</td>\n    </tr>\n    <tr>\n      <th>3</th>\n      <td>1004</td>\n      <td>1002</td>\n      <td>1</td>\n      <td>2</td>\n    </tr>\n    <tr>\n      <th>4</th>\n      <td>1005</td>\n      <td>1002</td>\n      <td>2</td>\n      <td>4</td>\n    </tr>\n  </tbody>\n</table>\n</div>"
     },
     "metadata": {}
    }
   ],
   "source": [
    "show_df(pizzas)"
   ]
  },
  {
   "cell_type": "code",
   "execution_count": 16,
   "metadata": {
    "tags": []
   },
   "outputs": [
    {
     "output_type": "stream",
     "name": "stdout",
     "text": "10000 orders in the range 1001 - 11000\n19934 pizzas in the range 1001 - 20934\n"
    }
   ],
   "source": [
    "# Key Statistics\n",
    "\n",
    "# count of unique orders\n",
    "orders_count = pizzas.order_id.nunique()\n",
    "order_min = pizzas.order_id.min()\n",
    "order_max = pizzas.order_id.max()\n",
    "print(f'{orders_count} orders in the range {order_min} - {order_max}')\n",
    "\n",
    "# count of unique pizzas\n",
    "pizzas_count = pizzas.pizza_id.nunique()\n",
    "pizza_min = pizzas.pizza_id.min()\n",
    "pizza_max = pizzas.pizza_id.max()\n",
    "print(f'{pizzas_count} pizzas in the range {pizza_min} - {pizza_max}')"
   ]
  },
  {
   "cell_type": "code",
   "execution_count": 17,
   "metadata": {},
   "outputs": [],
   "source": [
    "# most pizzas on one order\n",
    "order_pizzas = pizzas.order_id.value_counts().max()"
   ]
  },
  {
   "cell_type": "code",
   "execution_count": 18,
   "metadata": {
    "scrolled": true
   },
   "outputs": [
    {
     "output_type": "execute_result",
     "data": {
      "text/plain": "2047     1\n4791     1\n17069    1\n10928    1\n8881     1\nName: pizza_id, dtype: int64"
     },
     "metadata": {},
     "execution_count": 18
    }
   ],
   "source": [
    "# most orders on one pizza\n",
    "pizzas.pizza_id.value_counts().head()"
   ]
  },
  {
   "cell_type": "markdown",
   "metadata": {},
   "source": [
    "### pizza_toppings"
   ]
  },
  {
   "cell_type": "code",
   "execution_count": 19,
   "metadata": {
    "tags": []
   },
   "outputs": [
    {
     "output_type": "stream",
     "name": "stdout",
     "text": "<class 'pandas.core.frame.DataFrame'>\nRangeIndex: 47062 entries, 0 to 47061\nData columns (total 3 columns):\n #   Column          Non-Null Count  Dtype \n---  ------          --------------  ----- \n 0   pizza_id        47062 non-null  int64 \n 1   topping_id      47062 non-null  int64 \n 2   topping_amount  47062 non-null  object\ndtypes: int64(2), object(1)\nmemory usage: 1.1+ MB\nNone\n"
    },
    {
     "output_type": "display_data",
     "data": {
      "text/plain": "   pizza_id  topping_id topping_amount\n0      1001           5          extra\n1      1001           3        regular\n2      1002           8        regular\n3      1002           9          extra\n4      1002           8        regular",
      "text/html": "<div>\n<style scoped>\n    .dataframe tbody tr th:only-of-type {\n        vertical-align: middle;\n    }\n\n    .dataframe tbody tr th {\n        vertical-align: top;\n    }\n\n    .dataframe thead th {\n        text-align: right;\n    }\n</style>\n<table border=\"1\" class=\"dataframe\">\n  <thead>\n    <tr style=\"text-align: right;\">\n      <th></th>\n      <th>pizza_id</th>\n      <th>topping_id</th>\n      <th>topping_amount</th>\n    </tr>\n  </thead>\n  <tbody>\n    <tr>\n      <th>0</th>\n      <td>1001</td>\n      <td>5</td>\n      <td>extra</td>\n    </tr>\n    <tr>\n      <th>1</th>\n      <td>1001</td>\n      <td>3</td>\n      <td>regular</td>\n    </tr>\n    <tr>\n      <th>2</th>\n      <td>1002</td>\n      <td>8</td>\n      <td>regular</td>\n    </tr>\n    <tr>\n      <th>3</th>\n      <td>1002</td>\n      <td>9</td>\n      <td>extra</td>\n    </tr>\n    <tr>\n      <th>4</th>\n      <td>1002</td>\n      <td>8</td>\n      <td>regular</td>\n    </tr>\n  </tbody>\n</table>\n</div>"
     },
     "metadata": {}
    }
   ],
   "source": [
    "show_df(pizza_toppings)"
   ]
  },
  {
   "cell_type": "code",
   "execution_count": 20,
   "metadata": {
    "tags": []
   },
   "outputs": [
    {
     "output_type": "stream",
     "name": "stdout",
     "text": "17225 pizzas topped\nIs pizza_id unique? False\nToppings available: 9, Max toppings on one pizza: 12\nToppings unused: -3\n"
    }
   ],
   "source": [
    "# Key Statistics\n",
    "pizzas_topped_count = pizza_toppings.pizza_id.nunique()\n",
    "pizza_topped_min = pizza_toppings.pizza_id.min()\n",
    "pizza_topped_max = pizza_toppings.pizza_id.max()\n",
    "pizza_toppings_count = pizza_toppings.pizza_id.value_counts().value_counts()\n",
    "pizza_toppings_max = pizza_toppings.pizza_id.value_counts().max()\n",
    "pizza_topping_freq = pizza_toppings.topping_id.value_counts()\n",
    "pizza_topping_amount_freq = pizza_toppings.topping_amount.value_counts()\n",
    "\n",
    "print(f'{pizzas_topped_count} pizzas topped')\n",
    "print(f'Is pizza_id unique? {pizzas_topped_count == len(pizza_toppings)}')\n",
    "print(f'Toppings available: {len(pizza_topping_freq)}, Max toppings on one pizza: {pizza_toppings_max}')\n",
    "print(f'Toppings unused: {len(pizza_topping_freq) - pizza_toppings_max}')\n"
   ]
  },
  {
   "cell_type": "markdown",
   "metadata": {},
   "source": [
    "Next get an idea of scope ... value_count should be 1 on all of these."
   ]
  },
  {
   "cell_type": "code",
   "execution_count": 23,
   "metadata": {},
   "outputs": [
    {
     "output_type": "execute_result",
     "data": {
      "text/plain": "       pizza_id  topping_id topping_amount\n47045     20929           8        regular\n47046     20929           9          extra\n47047     20929           9        regular\n47048     20929           7        regular\n47049     20929           7        regular\n47050     20929           9          extra\n47051     20929           2          extra\n47052     20929           7        regular\n47053     20929           7        regular\n47054     20929           7        regular",
      "text/html": "<div>\n<style scoped>\n    .dataframe tbody tr th:only-of-type {\n        vertical-align: middle;\n    }\n\n    .dataframe tbody tr th {\n        vertical-align: top;\n    }\n\n    .dataframe thead th {\n        text-align: right;\n    }\n</style>\n<table border=\"1\" class=\"dataframe\">\n  <thead>\n    <tr style=\"text-align: right;\">\n      <th></th>\n      <th>pizza_id</th>\n      <th>topping_id</th>\n      <th>topping_amount</th>\n    </tr>\n  </thead>\n  <tbody>\n    <tr>\n      <th>47045</th>\n      <td>20929</td>\n      <td>8</td>\n      <td>regular</td>\n    </tr>\n    <tr>\n      <th>47046</th>\n      <td>20929</td>\n      <td>9</td>\n      <td>extra</td>\n    </tr>\n    <tr>\n      <th>47047</th>\n      <td>20929</td>\n      <td>9</td>\n      <td>regular</td>\n    </tr>\n    <tr>\n      <th>47048</th>\n      <td>20929</td>\n      <td>7</td>\n      <td>regular</td>\n    </tr>\n    <tr>\n      <th>47049</th>\n      <td>20929</td>\n      <td>7</td>\n      <td>regular</td>\n    </tr>\n    <tr>\n      <th>47050</th>\n      <td>20929</td>\n      <td>9</td>\n      <td>extra</td>\n    </tr>\n    <tr>\n      <th>47051</th>\n      <td>20929</td>\n      <td>2</td>\n      <td>extra</td>\n    </tr>\n    <tr>\n      <th>47052</th>\n      <td>20929</td>\n      <td>7</td>\n      <td>regular</td>\n    </tr>\n    <tr>\n      <th>47053</th>\n      <td>20929</td>\n      <td>7</td>\n      <td>regular</td>\n    </tr>\n    <tr>\n      <th>47054</th>\n      <td>20929</td>\n      <td>7</td>\n      <td>regular</td>\n    </tr>\n  </tbody>\n</table>\n</div>"
     },
     "metadata": {},
     "execution_count": 23
    }
   ],
   "source": [
    "pizza_toppings[pizza_toppings.pizza_id == 20929]"
   ]
  },
  {
   "cell_type": "markdown",
   "metadata": {},
   "source": [
    "20929 has 5 of regular topping 7 and 3 of topping 9 - 1 regular and 2 extras."
   ]
  },
  {
   "cell_type": "code",
   "execution_count": 24,
   "metadata": {
    "tags": []
   },
   "outputs": [
    {
     "output_type": "execute_result",
     "data": {
      "text/plain": "1     4988\n2     4143\n3     3320\n4     2154\n5     1338\n6      734\n7      351\n8      137\n9       41\n10      15\n12       2\n11       2\nName: pizza_id, dtype: int64"
     },
     "metadata": {},
     "execution_count": 24
    }
   ],
   "source": [
    "# topping count frequency\n",
    "pizza_toppings_count"
   ]
  },
  {
   "cell_type": "code",
   "execution_count": 25,
   "metadata": {},
   "outputs": [
    {
     "output_type": "execute_result",
     "data": {
      "text/plain": "regular    23300\nextra      14257\ndouble      7124\nlight       2381\nName: topping_amount, dtype: int64"
     },
     "metadata": {},
     "execution_count": 25
    }
   ],
   "source": [
    "# identify topping amounts\n",
    "pizza_toppings.topping_amount.value_counts().head()"
   ]
  },
  {
   "cell_type": "code",
   "execution_count": 26,
   "metadata": {},
   "outputs": [
    {
     "output_type": "execute_result",
     "data": {
      "text/plain": "1    5335\n2    5186\n3    5164\n4    5284\n5    5105\n6    5279\n7    5316\n8    5244\n9    5149\nName: topping_id, dtype: int64"
     },
     "metadata": {},
     "execution_count": 26
    }
   ],
   "source": [
    "# frequency by topping\n",
    "pizza_toppings.topping_id.value_counts().sort_index()"
   ]
  },
  {
   "cell_type": "markdown",
   "metadata": {},
   "source": [
    "### pizza_modifiers"
   ]
  },
  {
   "cell_type": "code",
   "execution_count": 27,
   "metadata": {
    "tags": []
   },
   "outputs": [
    {
     "output_type": "stream",
     "name": "stdout",
     "text": "<class 'pandas.core.frame.DataFrame'>\nRangeIndex: 6645 entries, 0 to 6644\nData columns (total 2 columns):\n #   Column       Non-Null Count  Dtype\n---  ------       --------------  -----\n 0   pizza_id     6645 non-null   int64\n 1   modifier_id  6645 non-null   int64\ndtypes: int64(2)\nmemory usage: 104.0 KB\nNone\n"
    },
    {
     "output_type": "display_data",
     "data": {
      "text/plain": "   pizza_id  modifier_id\n0      1002            3\n1      1008            2\n2      1011            1\n3      1013            1\n4      1020            1",
      "text/html": "<div>\n<style scoped>\n    .dataframe tbody tr th:only-of-type {\n        vertical-align: middle;\n    }\n\n    .dataframe tbody tr th {\n        vertical-align: top;\n    }\n\n    .dataframe thead th {\n        text-align: right;\n    }\n</style>\n<table border=\"1\" class=\"dataframe\">\n  <thead>\n    <tr style=\"text-align: right;\">\n      <th></th>\n      <th>pizza_id</th>\n      <th>modifier_id</th>\n    </tr>\n  </thead>\n  <tbody>\n    <tr>\n      <th>0</th>\n      <td>1002</td>\n      <td>3</td>\n    </tr>\n    <tr>\n      <th>1</th>\n      <td>1008</td>\n      <td>2</td>\n    </tr>\n    <tr>\n      <th>2</th>\n      <td>1011</td>\n      <td>1</td>\n    </tr>\n    <tr>\n      <th>3</th>\n      <td>1013</td>\n      <td>1</td>\n    </tr>\n    <tr>\n      <th>4</th>\n      <td>1020</td>\n      <td>1</td>\n    </tr>\n  </tbody>\n</table>\n</div>"
     },
     "metadata": {}
    }
   ],
   "source": [
    "show_df(pizza_modifiers)"
   ]
  },
  {
   "cell_type": "code",
   "execution_count": 28,
   "metadata": {
    "tags": []
   },
   "outputs": [
    {
     "output_type": "stream",
     "name": "stdout",
     "text": "6645 pizzas modified\nIs pizza_id unique? True\n"
    }
   ],
   "source": [
    "# Key Statistics\n",
    "pizzas_modified_count = pizza_modifiers.pizza_id.nunique()\n",
    "pizza_modified_min = pizza_modifiers.pizza_id.min()\n",
    "pizza_modified_max = pizza_modifiers.pizza_id.max()\n",
    "\n",
    "print(f'{pizzas_modified_count} pizzas modified')\n",
    "print(f'Is pizza_id unique? {pizzas_modified_count == len(pizza_modifiers)}')"
   ]
  },
  {
   "cell_type": "code",
   "execution_count": 29,
   "metadata": {
    "tags": []
   },
   "outputs": [
    {
     "output_type": "stream",
     "name": "stdout",
     "text": "1    2251\n3    2210\n2    2184\nName: modifier_id, dtype: int64\n"
    }
   ],
   "source": [
    "# modifier frequency\n",
    "print(pizza_modifiers.modifier_id.value_counts().head())"
   ]
  },
  {
   "cell_type": "code",
   "execution_count": 30,
   "metadata": {
    "tags": []
   },
   "outputs": [
    {
     "output_type": "execute_result",
     "data": {
      "text/plain": "3"
     },
     "metadata": {},
     "execution_count": 30
    }
   ],
   "source": [
    "pizza_modifiers.modifier_id.nunique()"
   ]
  },
  {
   "cell_type": "markdown",
   "metadata": {},
   "source": [
    "## Questions"
   ]
  },
  {
   "cell_type": "markdown",
   "metadata": {},
   "source": [
    "### Q.1\n",
    "**What information is stored in the `toppings` table? How does this table relate to the `pizzas` table?**"
   ]
  },
  {
   "cell_type": "code",
   "execution_count": 31,
   "metadata": {
    "tags": []
   },
   "outputs": [
    {
     "output_type": "stream",
     "name": "stdout",
     "text": "19934 pizzas numbered 1001 - 20934\n"
    }
   ],
   "source": [
    "print(f'{pizzas_count} pizzas numbered {pizza_min} - {pizza_max}')"
   ]
  },
  {
   "cell_type": "code",
   "execution_count": 32,
   "metadata": {
    "tags": []
   },
   "outputs": [
    {
     "output_type": "stream",
     "name": "stdout",
     "text": "17225\n"
    }
   ],
   "source": [
    "print(len(pizza_toppings.pizza_id.value_counts()))\n",
    "# print(f'{pizzas_modified_count} pizzas modified numbered {pizzas_topped} - {pizza_toppings.pizza_id.max()}')"
   ]
  },
  {
   "cell_type": "markdown",
   "metadata": {},
   "source": [
    "Topping id, name, and price. \n",
    "\n",
    "`pizzas.pizza_id` **1:0-M** `pizza_toppings.pizza_id`\n",
    "\n",
    "`pizza_toppings.topping_id` **M:1** `toppings.topping_id`"
   ]
  },
  {
   "cell_type": "markdown",
   "metadata": {},
   "source": [
    "### Q.2\n",
    "**What information is stored in the `modifiers` table? How does this table relate to the `pizzas` table?**"
   ]
  },
  {
   "cell_type": "markdown",
   "metadata": {},
   "source": [
    "Modifier id, name, and price. \n",
    "\n",
    "`pizzas.pizza_id` **1:0-1** `pizza_modifiers.pizza_id`\n",
    "\n",
    "`pizza_modifiers.modifier_id` **M:1** `modifiers.modifier_id`"
   ]
  },
  {
   "cell_type": "markdown",
   "metadata": {},
   "source": [
    "### Q.3\n",
    "**How are the `pizzas` and `sizes` tables related?**"
   ]
  },
  {
   "cell_type": "markdown",
   "metadata": {},
   "source": [
    "`pizzas.size_id` **M:1** `sizes.size_id`"
   ]
  },
  {
   "cell_type": "markdown",
   "metadata": {},
   "source": [
    "### Q.4\n",
    "**What other tables are in the database?**"
   ]
  },
  {
   "cell_type": "code",
   "execution_count": null,
   "metadata": {},
   "outputs": [],
   "source": []
  },
  {
   "cell_type": "markdown",
   "metadata": {},
   "source": [
    "`pizzas.size_id` **M:1** `crusts.crust_id`"
   ]
  },
  {
   "cell_type": "markdown",
   "metadata": {},
   "source": [
    "`pizza_topppings` exists, but not used"
   ]
  },
  {
   "cell_type": "markdown",
   "metadata": {},
   "source": [
    "### Q.5\n",
    "**How many unique toppings are there?**"
   ]
  },
  {
   "cell_type": "code",
   "execution_count": 33,
   "metadata": {
    "tags": []
   },
   "outputs": [
    {
     "output_type": "stream",
     "name": "stdout",
     "text": "9\n"
    }
   ],
   "source": [
    "print(toppings.topping_id.count())"
   ]
  },
  {
   "cell_type": "markdown",
   "metadata": {},
   "source": [
    "### Q.6\n",
    "**How many unique orders are in this dataset?**"
   ]
  },
  {
   "cell_type": "code",
   "execution_count": 34,
   "metadata": {
    "tags": []
   },
   "outputs": [
    {
     "output_type": "stream",
     "name": "stdout",
     "text": "10000\n"
    }
   ],
   "source": [
    "print(len(pizzas.order_id.value_counts()))"
   ]
  },
  {
   "cell_type": "markdown",
   "metadata": {},
   "source": [
    "### Q.7\n",
    "**Which size of pizza is sold the most?**"
   ]
  },
  {
   "cell_type": "code",
   "execution_count": null,
   "metadata": {},
   "outputs": [],
   "source": []
  },
  {
   "cell_type": "markdown",
   "metadata": {},
   "source": [
    "### Q.8\n",
    "**How many pizzas have been sold in total?**"
   ]
  },
  {
   "cell_type": "code",
   "execution_count": null,
   "metadata": {},
   "outputs": [],
   "source": []
  },
  {
   "cell_type": "markdown",
   "metadata": {},
   "source": [
    "### Q.9\n",
    "**What is the most common size of pizza ordered?**"
   ]
  },
  {
   "cell_type": "code",
   "execution_count": null,
   "metadata": {},
   "outputs": [],
   "source": []
  },
  {
   "cell_type": "markdown",
   "metadata": {},
   "source": [
    "### Q.10\n",
    "**What is the average number of pizzas per order?**"
   ]
  },
  {
   "cell_type": "code",
   "execution_count": null,
   "metadata": {},
   "outputs": [],
   "source": []
  },
  {
   "cell_type": "markdown",
   "metadata": {},
   "source": [
    "### Q.11\n",
    "**Find the total price for each order. The total price is the sum of:**\n",
    "\n",
    "- **The price based on pizza size**\n",
    "- **Any modifiers that need to be charged for**\n",
    "- **The sum of the topping prices**\n",
    "\n",
    "**Topping price is affected by the amount of the topping specified. A light amount is half of the regular price. An extra amount is 1.5 times the regular price, and double of the topping is double the price.**"
   ]
  },
  {
   "cell_type": "code",
   "execution_count": null,
   "metadata": {},
   "outputs": [],
   "source": []
  },
  {
   "cell_type": "markdown",
   "metadata": {},
   "source": [
    "### Q.12\n",
    "**What is the average price of pizzas that have no cheese?**"
   ]
  },
  {
   "cell_type": "code",
   "execution_count": null,
   "metadata": {},
   "outputs": [],
   "source": []
  },
  {
   "cell_type": "markdown",
   "metadata": {},
   "source": [
    "### Q.13\n",
    "**What is the most common size for pizzas that have extra cheese?**"
   ]
  },
  {
   "cell_type": "code",
   "execution_count": null,
   "metadata": {},
   "outputs": [],
   "source": []
  },
  {
   "cell_type": "markdown",
   "metadata": {},
   "source": [
    "### Q.14\n",
    "**What is the most common topping for pizzas that are well done?**"
   ]
  },
  {
   "cell_type": "code",
   "execution_count": null,
   "metadata": {},
   "outputs": [],
   "source": []
  },
  {
   "cell_type": "markdown",
   "metadata": {},
   "source": [
    "### Q.15\n",
    "**How many pizzas are only cheese (i.e. have no toppings)?**"
   ]
  },
  {
   "cell_type": "code",
   "execution_count": null,
   "metadata": {},
   "outputs": [],
   "source": []
  },
  {
   "cell_type": "markdown",
   "metadata": {},
   "source": [
    "### Q.16\n",
    "**How many orders consist of pizza(s) that are only cheese? What is the average price of these orders? The most common pizza size?**"
   ]
  },
  {
   "cell_type": "code",
   "execution_count": null,
   "metadata": {},
   "outputs": [],
   "source": []
  },
  {
   "cell_type": "markdown",
   "metadata": {},
   "source": [
    "### Q.17\n",
    "**How may large pizzas have olives on them?**"
   ]
  },
  {
   "cell_type": "code",
   "execution_count": null,
   "metadata": {},
   "outputs": [],
   "source": []
  },
  {
   "cell_type": "markdown",
   "metadata": {},
   "source": [
    "### Q.18\n",
    "**What is the average number of toppings per pizza?**"
   ]
  },
  {
   "cell_type": "code",
   "execution_count": null,
   "metadata": {},
   "outputs": [],
   "source": []
  },
  {
   "cell_type": "markdown",
   "metadata": {},
   "source": [
    "### Q.19\n",
    "**What is the average number of pizzas per order?**"
   ]
  },
  {
   "cell_type": "code",
   "execution_count": null,
   "metadata": {},
   "outputs": [],
   "source": []
  },
  {
   "cell_type": "markdown",
   "metadata": {},
   "source": [
    "### Q.20\n",
    "**What is the average pizza price?**"
   ]
  },
  {
   "cell_type": "code",
   "execution_count": null,
   "metadata": {},
   "outputs": [],
   "source": []
  },
  {
   "cell_type": "markdown",
   "metadata": {},
   "source": [
    "### Q.21\n",
    "**What is the average order total?**"
   ]
  },
  {
   "cell_type": "code",
   "execution_count": null,
   "metadata": {},
   "outputs": [],
   "source": []
  },
  {
   "cell_type": "markdown",
   "metadata": {},
   "source": [
    "### Q.22\n",
    "**What is the average number of items per order?**"
   ]
  },
  {
   "cell_type": "code",
   "execution_count": null,
   "metadata": {},
   "outputs": [],
   "source": []
  },
  {
   "cell_type": "markdown",
   "metadata": {},
   "source": [
    "### Q.23\n",
    "**What is the average number of toppings per pizza for each size of pizza?**"
   ]
  },
  {
   "cell_type": "code",
   "execution_count": null,
   "metadata": {},
   "outputs": [],
   "source": []
  },
  {
   "cell_type": "markdown",
   "metadata": {},
   "source": [
    "### Q.24\n",
    "**What is the average order total for orders that contain more than 1 pizza?**"
   ]
  },
  {
   "cell_type": "code",
   "execution_count": null,
   "metadata": {},
   "outputs": [],
   "source": []
  },
  {
   "cell_type": "markdown",
   "metadata": {},
   "source": [
    "### Q.25\n",
    "**What is the most common pizza size for orders that contain only a single pizza?**"
   ]
  },
  {
   "cell_type": "code",
   "execution_count": null,
   "metadata": {},
   "outputs": [],
   "source": []
  },
  {
   "cell_type": "markdown",
   "metadata": {},
   "source": [
    "### Q.26\n",
    "**How many orders consist of 3+ pizzas? What is the average number of toppings for these orders?**"
   ]
  },
  {
   "cell_type": "code",
   "execution_count": null,
   "metadata": {},
   "outputs": [],
   "source": []
  },
  {
   "cell_type": "markdown",
   "metadata": {},
   "source": [
    "### Q.27\n",
    "**What is the most common topping on large and extra large pizzas?**"
   ]
  },
  {
   "cell_type": "code",
   "execution_count": null,
   "metadata": {},
   "outputs": [],
   "source": []
  },
  {
   "cell_type": "markdown",
   "metadata": {},
   "source": [
    "### Q.28\n",
    "**What is the most common topping for orders that consist of 2 pizzas?**"
   ]
  },
  {
   "cell_type": "code",
   "execution_count": null,
   "metadata": {},
   "outputs": [],
   "source": []
  },
  {
   "cell_type": "markdown",
   "metadata": {},
   "source": [
    "### Q.29\n",
    "**Which size of pizza most frequently has modifiers?**"
   ]
  },
  {
   "cell_type": "code",
   "execution_count": null,
   "metadata": {},
   "outputs": [],
   "source": []
  },
  {
   "cell_type": "markdown",
   "metadata": {},
   "source": [
    "### Q.30\n",
    "**What percentage of pizzas with hot sauce have extra cheese?**"
   ]
  },
  {
   "cell_type": "code",
   "execution_count": null,
   "metadata": {},
   "outputs": [],
   "source": []
  },
  {
   "cell_type": "markdown",
   "metadata": {},
   "source": [
    "### Q.31\n",
    "**What is the average order price for orders that have at least 1 pizza with pineapple?**"
   ]
  },
  {
   "cell_type": "code",
   "execution_count": null,
   "metadata": {},
   "outputs": [],
   "source": []
  }
 ],
 "metadata": {
  "kernelspec": {
   "display_name": "Python 3",
   "language": "python",
   "name": "python3"
  },
  "language_info": {
   "codemirror_mode": {
    "name": "ipython",
    "version": 3
   },
   "file_extension": ".py",
   "mimetype": "text/x-python",
   "name": "python",
   "nbconvert_exporter": "python",
   "pygments_lexer": "ipython3",
   "version": "3.7.7-final"
  }
 },
 "nbformat": 4,
 "nbformat_minor": 4
}