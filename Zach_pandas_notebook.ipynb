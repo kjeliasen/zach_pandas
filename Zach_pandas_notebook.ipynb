{
 "cells": [
  {
   "cell_type": "markdown",
   "metadata": {},
   "source": [
    "# Zach Gulde's sqlite3/pandas Exercises"
   ]
  },
  {
   "cell_type": "markdown",
   "metadata": {},
   "source": [
    "# Purpose\n",
    "\n",
    "Reviewing tutorial prepared by Zach Gulde."
   ]
  },
  {
   "cell_type": "markdown",
   "metadata": {},
   "source": [
    "## Environment Setup"
   ]
  },
  {
   "cell_type": "code",
   "execution_count": 1,
   "metadata": {},
   "outputs": [],
   "source": [
    "import pandas as pd\n",
    "import sqlite3\n"
   ]
  },
  {
   "cell_type": "code",
   "execution_count": 2,
   "metadata": {},
   "outputs": [],
   "source": [
    "# show_df command displays info and head functions\n",
    "def show_df(df, heads=5):\n",
    "    if heads > len(df):\n",
    "        heads = len(df)\n",
    "    print(df.info())\n",
    "    display(df.head(heads))"
   ]
  },
  {
   "cell_type": "markdown",
   "metadata": {},
   "source": [
    "## Getting the Data Into Pandas"
   ]
  },
  {
   "cell_type": "markdown",
   "metadata": {},
   "source": [
    "The `sqlite3` module is part of the python standard library, so you shouldn't\n",
    "need to install anything.\n",
    "\n",
    "```python\n",
    "import pandas as pd\n",
    "import sqlite3\n",
    "\n",
    "connection = sqlite3.connect('pizza.sqlite') # or specify the path to the db file\n",
    "\n",
    "pizzas = pd.read_sql('SELECT * FROM pizzas', connection)\n",
    "```"
   ]
  },
  {
   "cell_type": "code",
   "execution_count": 3,
   "metadata": {},
   "outputs": [],
   "source": [
    "connection = sqlite3.connect('pizza.sqlite') # or specify the path to the db file"
   ]
  },
  {
   "cell_type": "markdown",
   "metadata": {},
   "source": [
    "## Exploration"
   ]
  },
  {
   "cell_type": "markdown",
   "metadata": {},
   "source": [
    "Get structure of database"
   ]
  },
  {
   "cell_type": "code",
   "execution_count": 4,
   "metadata": {},
   "outputs": [
    {
     "data": {
      "text/html": [
       "<div>\n",
       "<style scoped>\n",
       "    .dataframe tbody tr th:only-of-type {\n",
       "        vertical-align: middle;\n",
       "    }\n",
       "\n",
       "    .dataframe tbody tr th {\n",
       "        vertical-align: top;\n",
       "    }\n",
       "\n",
       "    .dataframe thead th {\n",
       "        text-align: right;\n",
       "    }\n",
       "</style>\n",
       "<table border=\"1\" class=\"dataframe\">\n",
       "  <thead>\n",
       "    <tr style=\"text-align: right;\">\n",
       "      <th></th>\n",
       "      <th>type</th>\n",
       "      <th>name</th>\n",
       "      <th>tbl_name</th>\n",
       "      <th>rootpage</th>\n",
       "      <th>sql</th>\n",
       "    </tr>\n",
       "  </thead>\n",
       "  <tbody>\n",
       "    <tr>\n",
       "      <th>0</th>\n",
       "      <td>table</td>\n",
       "      <td>crust_types</td>\n",
       "      <td>crust_types</td>\n",
       "      <td>2</td>\n",
       "      <td>CREATE TABLE crust_types(\\n    crust_type_id I...</td>\n",
       "    </tr>\n",
       "    <tr>\n",
       "      <th>1</th>\n",
       "      <td>table</td>\n",
       "      <td>sizes</td>\n",
       "      <td>sizes</td>\n",
       "      <td>3</td>\n",
       "      <td>CREATE TABLE sizes(\\n    size_id INTEGER PRIMA...</td>\n",
       "    </tr>\n",
       "    <tr>\n",
       "      <th>2</th>\n",
       "      <td>table</td>\n",
       "      <td>toppings</td>\n",
       "      <td>toppings</td>\n",
       "      <td>4</td>\n",
       "      <td>CREATE TABLE toppings(\\n    topping_id INTEGER...</td>\n",
       "    </tr>\n",
       "    <tr>\n",
       "      <th>3</th>\n",
       "      <td>table</td>\n",
       "      <td>modifiers</td>\n",
       "      <td>modifiers</td>\n",
       "      <td>5</td>\n",
       "      <td>CREATE TABLE modifiers(\\n    modifier_id INTEG...</td>\n",
       "    </tr>\n",
       "    <tr>\n",
       "      <th>4</th>\n",
       "      <td>table</td>\n",
       "      <td>pizzas</td>\n",
       "      <td>pizzas</td>\n",
       "      <td>6</td>\n",
       "      <td>CREATE TABLE pizzas(\\n    pizza_id INTEGER PRI...</td>\n",
       "    </tr>\n",
       "    <tr>\n",
       "      <th>5</th>\n",
       "      <td>table</td>\n",
       "      <td>pizza_toppings</td>\n",
       "      <td>pizza_toppings</td>\n",
       "      <td>7</td>\n",
       "      <td>CREATE TABLE pizza_toppings(\\n    pizza_id INT...</td>\n",
       "    </tr>\n",
       "    <tr>\n",
       "      <th>6</th>\n",
       "      <td>index</td>\n",
       "      <td>sqlite_autoindex_pizza_toppings_1</td>\n",
       "      <td>pizza_toppings</td>\n",
       "      <td>8</td>\n",
       "      <td>None</td>\n",
       "    </tr>\n",
       "    <tr>\n",
       "      <th>7</th>\n",
       "      <td>table</td>\n",
       "      <td>pizza_modifiers</td>\n",
       "      <td>pizza_modifiers</td>\n",
       "      <td>9</td>\n",
       "      <td>CREATE TABLE pizza_modifiers(\\n    pizza_id IN...</td>\n",
       "    </tr>\n",
       "    <tr>\n",
       "      <th>8</th>\n",
       "      <td>index</td>\n",
       "      <td>sqlite_autoindex_pizza_modifiers_1</td>\n",
       "      <td>pizza_modifiers</td>\n",
       "      <td>10</td>\n",
       "      <td>None</td>\n",
       "    </tr>\n",
       "  </tbody>\n",
       "</table>\n",
       "</div>"
      ],
      "text/plain": [
       "    type                                name         tbl_name  rootpage  \\\n",
       "0  table                         crust_types      crust_types         2   \n",
       "1  table                               sizes            sizes         3   \n",
       "2  table                            toppings         toppings         4   \n",
       "3  table                           modifiers        modifiers         5   \n",
       "4  table                              pizzas           pizzas         6   \n",
       "5  table                      pizza_toppings   pizza_toppings         7   \n",
       "6  index   sqlite_autoindex_pizza_toppings_1   pizza_toppings         8   \n",
       "7  table                     pizza_modifiers  pizza_modifiers         9   \n",
       "8  index  sqlite_autoindex_pizza_modifiers_1  pizza_modifiers        10   \n",
       "\n",
       "                                                 sql  \n",
       "0  CREATE TABLE crust_types(\\n    crust_type_id I...  \n",
       "1  CREATE TABLE sizes(\\n    size_id INTEGER PRIMA...  \n",
       "2  CREATE TABLE toppings(\\n    topping_id INTEGER...  \n",
       "3  CREATE TABLE modifiers(\\n    modifier_id INTEG...  \n",
       "4  CREATE TABLE pizzas(\\n    pizza_id INTEGER PRI...  \n",
       "5  CREATE TABLE pizza_toppings(\\n    pizza_id INT...  \n",
       "6                                               None  \n",
       "7  CREATE TABLE pizza_modifiers(\\n    pizza_id IN...  \n",
       "8                                               None  "
      ]
     },
     "metadata": {},
     "output_type": "display_data"
    }
   ],
   "source": [
    "pizza_master = pd.read_sql('SELECT * FROM sqlite_master', connection)\n",
    "display(pizza_master)"
   ]
  },
  {
   "cell_type": "markdown",
   "metadata": {},
   "source": [
    "get list of tables, use loops to spit out code for creating and displaying DataFrames from sqlite3"
   ]
  },
  {
   "cell_type": "code",
   "execution_count": 5,
   "metadata": {},
   "outputs": [],
   "source": [
    "pizza_tables = pizza_master[pizza_master.type == 'table'].name.to_list()"
   ]
  },
  {
   "cell_type": "code",
   "execution_count": 48,
   "metadata": {
    "tags": []
   },
   "outputs": [
    {
     "name": "stdout",
     "output_type": "stream",
     "text": [
      "crust_types = pd.read_sql(\"SELECT * FROM crust_types\", connection)\n",
      "crust_types_record_count = crust_types.shape[0]\n",
      "sizes = pd.read_sql(\"SELECT * FROM sizes\", connection)\n",
      "sizes_record_count = sizes.shape[0]\n",
      "toppings = pd.read_sql(\"SELECT * FROM toppings\", connection)\n",
      "toppings_record_count = toppings.shape[0]\n",
      "modifiers = pd.read_sql(\"SELECT * FROM modifiers\", connection)\n",
      "modifiers_record_count = modifiers.shape[0]\n",
      "pizzas = pd.read_sql(\"SELECT * FROM pizzas\", connection)\n",
      "pizzas_record_count = pizzas.shape[0]\n",
      "pizza_toppings = pd.read_sql(\"SELECT * FROM pizza_toppings\", connection)\n",
      "pizza_toppings_record_count = pizza_toppings.shape[0]\n",
      "pizza_modifiers = pd.read_sql(\"SELECT * FROM pizza_modifiers\", connection)\n",
      "pizza_modifiers_record_count = pizza_modifiers.shape[0]\n"
     ]
    }
   ],
   "source": [
    "# loop through to get create commands\n",
    "for t in pizza_tables:\n",
    "    print(f'{t} = pd.read_sql(\"SELECT * FROM {t}\", connection)')\n",
    "    print(f'{t}_record_count = {t}.shape[0]')\n",
    "#     print(f'{t}_id_field = {t}.columns[0]')"
   ]
  },
  {
   "cell_type": "markdown",
   "metadata": {},
   "source": [
    "*(Paste above into next cell)*"
   ]
  },
  {
   "cell_type": "code",
   "execution_count": 49,
   "metadata": {},
   "outputs": [],
   "source": [
    "crust_types = pd.read_sql(\"SELECT * FROM crust_types\", connection)\n",
    "crust_types_record_count = crust_types.shape[0]\n",
    "crust_types_id_field = crust_types.columns[0]\n",
    "sizes = pd.read_sql(\"SELECT * FROM sizes\", connection)\n",
    "sizes_record_count = sizes.shape[0]\n",
    "sizes_id_field = sizes.columns[0]\n",
    "toppings = pd.read_sql(\"SELECT * FROM toppings\", connection)\n",
    "toppings_record_count = toppings.shape[0]\n",
    "toppings_id_field = toppings.columns[0]\n",
    "modifiers = pd.read_sql(\"SELECT * FROM modifiers\", connection)\n",
    "modifiers_record_count = modifiers.shape[0]\n",
    "modifiers_id_field = modifiers.columns[0]\n",
    "pizzas = pd.read_sql(\"SELECT * FROM pizzas\", connection)\n",
    "pizzas_record_count = pizzas.shape[0]\n",
    "pizzas_id_field = pizzas.columns[0]\n",
    "pizza_toppings = pd.read_sql(\"SELECT * FROM pizza_toppings\", connection)\n",
    "pizza_toppings_record_count = pizza_toppings.shape[0]\n",
    "pizza_toppings_id_field = pizza_toppings.columns[0]\n",
    "pizza_modifiers = pd.read_sql(\"SELECT * FROM pizza_modifiers\", connection)\n",
    "pizza_modifiers_record_count = pizza_modifiers.shape[0]\n",
    "pizza_modifiers_id_field = pizza_modifiers.columns[0]"
   ]
  },
  {
   "cell_type": "code",
   "execution_count": 105,
   "metadata": {
    "scrolled": true,
    "tags": []
   },
   "outputs": [
    {
     "name": "stdout",
     "output_type": "stream",
     "text": [
      "*** CRUST_TYPES BEGIN ***\n",
      "\n",
      "MD CELL:\n",
      "### crust_types\n",
      "\n",
      "CODE CELL:\n",
      "print(f'ID Field: {crust_types_id_field}\\n')\n",
      "show_df(crust_types)\n",
      "\n",
      "MD CELL:\n",
      "#### crust_types Key Statistics\n",
      "\n",
      "CODE CELL - REPLACE EVERYTHING IN ALL CAPS:\n",
      "print(f'There are {crust_types_record_count} records in this table')\n",
      "\n",
      "# Count of unique CRUST_TYPES_ID\n",
      "CRUST_TYPES_ID_count = crust_types.CRUST_TYPES_ID.nunique()\n",
      "CRUST_TYPES_ID_min = crust_types.CRUST_TYPES_ID.min()\n",
      "CRUST_TYPES_ID_max = crust_types.CRUST_TYPES_ID.max()\n",
      "print(f'\\n{CRUST_TYPES_ID_count} crust_types_id in the range {CRUST_TYPES_ID_min} - {CRUST_TYPES_ID_max}')\n",
      "print(f'Is CRUST_TYPES_ID unique? {crust_types_record_count == CRUST_TYPES_ID_count}')\n",
      "\n",
      "MD CELL - SPECIFY WHETHER ID IS OR IS NOT UNIQUE:\n",
      "#### crust_types evaluation\n",
      "`CRUST_TYPES_ID` is not unique\n",
      "EVAL\n",
      "\n",
      "*** CRUST_TYPES END ***\n",
      "*** SIZES BEGIN ***\n",
      "\n",
      "MD CELL:\n",
      "### sizes\n",
      "\n",
      "CODE CELL:\n",
      "print(f'ID Field: {sizes_id_field}\\n')\n",
      "show_df(sizes)\n",
      "\n",
      "MD CELL:\n",
      "#### sizes Key Statistics\n",
      "\n",
      "CODE CELL - REPLACE EVERYTHING IN ALL CAPS:\n",
      "print(f'There are {sizes_record_count} records in this table')\n",
      "\n",
      "# Count of unique SIZES_ID\n",
      "SIZES_ID_count = sizes.SIZES_ID.nunique()\n",
      "SIZES_ID_min = sizes.SIZES_ID.min()\n",
      "SIZES_ID_max = sizes.SIZES_ID.max()\n",
      "print(f'\\n{SIZES_ID_count} sizes_id in the range {SIZES_ID_min} - {SIZES_ID_max}')\n",
      "print(f'Is SIZES_ID unique? {sizes_record_count == SIZES_ID_count}')\n",
      "\n",
      "MD CELL - SPECIFY WHETHER ID IS OR IS NOT UNIQUE:\n",
      "#### sizes evaluation\n",
      "`SIZES_ID` is not unique\n",
      "EVAL\n",
      "\n",
      "*** SIZES END ***\n",
      "*** TOPPINGS BEGIN ***\n",
      "\n",
      "MD CELL:\n",
      "### toppings\n",
      "\n",
      "CODE CELL:\n",
      "print(f'ID Field: {toppings_id_field}\\n')\n",
      "show_df(toppings)\n",
      "\n",
      "MD CELL:\n",
      "#### toppings Key Statistics\n",
      "\n",
      "CODE CELL - REPLACE EVERYTHING IN ALL CAPS:\n",
      "print(f'There are {toppings_record_count} records in this table')\n",
      "\n",
      "# Count of unique TOPPINGS_ID\n",
      "TOPPINGS_ID_count = toppings.TOPPINGS_ID.nunique()\n",
      "TOPPINGS_ID_min = toppings.TOPPINGS_ID.min()\n",
      "TOPPINGS_ID_max = toppings.TOPPINGS_ID.max()\n",
      "print(f'\\n{TOPPINGS_ID_count} toppings_id in the range {TOPPINGS_ID_min} - {TOPPINGS_ID_max}')\n",
      "print(f'Is TOPPINGS_ID unique? {toppings_record_count == TOPPINGS_ID_count}')\n",
      "\n",
      "MD CELL - SPECIFY WHETHER ID IS OR IS NOT UNIQUE:\n",
      "#### toppings evaluation\n",
      "`TOPPINGS_ID` is not unique\n",
      "EVAL\n",
      "\n",
      "*** TOPPINGS END ***\n",
      "*** MODIFIERS BEGIN ***\n",
      "\n",
      "MD CELL:\n",
      "### modifiers\n",
      "\n",
      "CODE CELL:\n",
      "print(f'ID Field: {modifiers_id_field}\\n')\n",
      "show_df(modifiers)\n",
      "\n",
      "MD CELL:\n",
      "#### modifiers Key Statistics\n",
      "\n",
      "CODE CELL - REPLACE EVERYTHING IN ALL CAPS:\n",
      "print(f'There are {modifiers_record_count} records in this table')\n",
      "\n",
      "# Count of unique MODIFIERS_ID\n",
      "MODIFIERS_ID_count = modifiers.MODIFIERS_ID.nunique()\n",
      "MODIFIERS_ID_min = modifiers.MODIFIERS_ID.min()\n",
      "MODIFIERS_ID_max = modifiers.MODIFIERS_ID.max()\n",
      "print(f'\\n{MODIFIERS_ID_count} modifiers_id in the range {MODIFIERS_ID_min} - {MODIFIERS_ID_max}')\n",
      "print(f'Is MODIFIERS_ID unique? {modifiers_record_count == MODIFIERS_ID_count}')\n",
      "\n",
      "MD CELL - SPECIFY WHETHER ID IS OR IS NOT UNIQUE:\n",
      "#### modifiers evaluation\n",
      "`MODIFIERS_ID` is not unique\n",
      "EVAL\n",
      "\n",
      "*** MODIFIERS END ***\n",
      "*** PIZZAS BEGIN ***\n",
      "\n",
      "MD CELL:\n",
      "### pizzas\n",
      "\n",
      "CODE CELL:\n",
      "print(f'ID Field: {pizzas_id_field}\\n')\n",
      "show_df(pizzas)\n",
      "\n",
      "MD CELL:\n",
      "#### pizzas Key Statistics\n",
      "\n",
      "CODE CELL - REPLACE EVERYTHING IN ALL CAPS:\n",
      "print(f'There are {pizzas_record_count} records in this table')\n",
      "\n",
      "# Count of unique PIZZAS_ID\n",
      "PIZZAS_ID_count = pizzas.PIZZAS_ID.nunique()\n",
      "PIZZAS_ID_min = pizzas.PIZZAS_ID.min()\n",
      "PIZZAS_ID_max = pizzas.PIZZAS_ID.max()\n",
      "print(f'\\n{PIZZAS_ID_count} pizzas_id in the range {PIZZAS_ID_min} - {PIZZAS_ID_max}')\n",
      "print(f'Is PIZZAS_ID unique? {pizzas_record_count == PIZZAS_ID_count}')\n",
      "\n",
      "MD CELL - SPECIFY WHETHER ID IS OR IS NOT UNIQUE:\n",
      "#### pizzas evaluation\n",
      "`PIZZAS_ID` is not unique\n",
      "EVAL\n",
      "\n",
      "*** PIZZAS END ***\n",
      "*** PIZZA_TOPPINGS BEGIN ***\n",
      "\n",
      "MD CELL:\n",
      "### pizza_toppings\n",
      "\n",
      "CODE CELL:\n",
      "print(f'ID Field: {pizza_toppings_id_field}\\n')\n",
      "show_df(pizza_toppings)\n",
      "\n",
      "MD CELL:\n",
      "#### pizza_toppings Key Statistics\n",
      "\n",
      "CODE CELL - REPLACE EVERYTHING IN ALL CAPS:\n",
      "print(f'There are {pizza_toppings_record_count} records in this table')\n",
      "\n",
      "# Count of unique PIZZA_TOPPINGS_ID\n",
      "PIZZA_TOPPINGS_ID_count = pizza_toppings.PIZZA_TOPPINGS_ID.nunique()\n",
      "PIZZA_TOPPINGS_ID_min = pizza_toppings.PIZZA_TOPPINGS_ID.min()\n",
      "PIZZA_TOPPINGS_ID_max = pizza_toppings.PIZZA_TOPPINGS_ID.max()\n",
      "print(f'\\n{PIZZA_TOPPINGS_ID_count} pizza_toppings_id in the range {PIZZA_TOPPINGS_ID_min} - {PIZZA_TOPPINGS_ID_max}')\n",
      "print(f'Is PIZZA_TOPPINGS_ID unique? {pizza_toppings_record_count == PIZZA_TOPPINGS_ID_count}')\n",
      "\n",
      "MD CELL - SPECIFY WHETHER ID IS OR IS NOT UNIQUE:\n",
      "#### pizza_toppings evaluation\n",
      "`PIZZA_TOPPINGS_ID` is not unique\n",
      "EVAL\n",
      "\n",
      "*** PIZZA_TOPPINGS END ***\n",
      "*** PIZZA_MODIFIERS BEGIN ***\n",
      "\n",
      "MD CELL:\n",
      "### pizza_modifiers\n",
      "\n",
      "CODE CELL:\n",
      "print(f'ID Field: {pizza_modifiers_id_field}\\n')\n",
      "show_df(pizza_modifiers)\n",
      "\n",
      "MD CELL:\n",
      "#### pizza_modifiers Key Statistics\n",
      "\n",
      "CODE CELL - REPLACE EVERYTHING IN ALL CAPS:\n",
      "print(f'There are {pizza_modifiers_record_count} records in this table')\n",
      "\n",
      "# Count of unique PIZZA_MODIFIERS_ID\n",
      "PIZZA_MODIFIERS_ID_count = pizza_modifiers.PIZZA_MODIFIERS_ID.nunique()\n",
      "PIZZA_MODIFIERS_ID_min = pizza_modifiers.PIZZA_MODIFIERS_ID.min()\n",
      "PIZZA_MODIFIERS_ID_max = pizza_modifiers.PIZZA_MODIFIERS_ID.max()\n",
      "print(f'\\n{PIZZA_MODIFIERS_ID_count} pizza_modifiers_id in the range {PIZZA_MODIFIERS_ID_min} - {PIZZA_MODIFIERS_ID_max}')\n",
      "print(f'Is PIZZA_MODIFIERS_ID unique? {pizza_modifiers_record_count == PIZZA_MODIFIERS_ID_count}')\n",
      "\n",
      "MD CELL - SPECIFY WHETHER ID IS OR IS NOT UNIQUE:\n",
      "#### pizza_modifiers evaluation\n",
      "`PIZZA_MODIFIERS_ID` is not unique\n",
      "EVAL\n",
      "\n",
      "*** PIZZA_MODIFIERS END ***\n"
     ]
    }
   ],
   "source": [
    "# loop throught to get show_df commands\n",
    "for t in pizza_tables:\n",
    "    print(f'*** {t.upper()} BEGIN ***')\n",
    "    print(f'\\nMD CELL:\\n### {t}')\n",
    "    print(f'\\nCODE CELL:\\nprint(f\\'ID Field: {{{t}_id_field}}\\\\n\\')')\n",
    "    print(f'show_df({t})')\n",
    "    print(f'\\nMD CELL:\\n#### {t} Key Statistics')\n",
    "    print(f'\\nCODE CELL - REPLACE EVERYTHING IN ALL CAPS:')\n",
    "    print(f'print(f\\'There are {{{t}_record_count}} records in this table\\')\\n')\n",
    "    print(f'# Count of unique {t.upper()}_ID')\n",
    "    print(f'{t.upper()}_ID_count = {t}.{t.upper()}_ID.nunique()')\n",
    "    print(f'{t.upper()}_ID_min = {t}.{t.upper()}_ID.min()')\n",
    "    print(f'{t.upper()}_ID_max = {t}.{t.upper()}_ID.max()')\n",
    "    print(f'print(f\\'\\\\n{{{t.upper()}_ID_count}} {t}_id in the range {{{t.upper()}_ID_min}} - {{{t.upper()}_ID_max}}\\')')\n",
    "    print(f'print(f\\'Is {t.upper()}_ID unique? {{{t}_record_count == {t.upper()}_ID_count}}\\')')\n",
    "    print(f'\\nMD CELL - SPECIFY WHETHER ID IS OR IS NOT UNIQUE:\\n#### {t} evaluation')\n",
    "    print(f'`{t.upper()}_ID` is not unique\\nEVAL')\n",
    "    print(f'\\n*** {t.upper()} END ***')\n"
   ]
  },
  {
   "cell_type": "markdown",
   "metadata": {},
   "source": []
  },
  {
   "cell_type": "markdown",
   "metadata": {},
   "source": []
  },
  {
   "cell_type": "markdown",
   "metadata": {},
   "source": [
    "*(paste above into separate cells of the specified type*"
   ]
  },
  {
   "cell_type": "markdown",
   "metadata": {},
   "source": [
    "### crust_types"
   ]
  },
  {
   "cell_type": "code",
   "execution_count": 65,
   "metadata": {
    "tags": []
   },
   "outputs": [
    {
     "name": "stdout",
     "output_type": "stream",
     "text": [
      "ID Field: crust_type_id\n",
      "\n",
      "<class 'pandas.core.frame.DataFrame'>\n",
      "RangeIndex: 2 entries, 0 to 1\n",
      "Data columns (total 2 columns):\n",
      " #   Column           Non-Null Count  Dtype \n",
      "---  ------           --------------  ----- \n",
      " 0   crust_type_id    2 non-null      int64 \n",
      " 1   crust_type_name  2 non-null      object\n",
      "dtypes: int64(1), object(1)\n",
      "memory usage: 160.0+ bytes\n",
      "None\n"
     ]
    },
    {
     "data": {
      "text/html": [
       "<div>\n",
       "<style scoped>\n",
       "    .dataframe tbody tr th:only-of-type {\n",
       "        vertical-align: middle;\n",
       "    }\n",
       "\n",
       "    .dataframe tbody tr th {\n",
       "        vertical-align: top;\n",
       "    }\n",
       "\n",
       "    .dataframe thead th {\n",
       "        text-align: right;\n",
       "    }\n",
       "</style>\n",
       "<table border=\"1\" class=\"dataframe\">\n",
       "  <thead>\n",
       "    <tr style=\"text-align: right;\">\n",
       "      <th></th>\n",
       "      <th>crust_type_id</th>\n",
       "      <th>crust_type_name</th>\n",
       "    </tr>\n",
       "  </thead>\n",
       "  <tbody>\n",
       "    <tr>\n",
       "      <th>0</th>\n",
       "      <td>1</td>\n",
       "      <td>hand-tossed</td>\n",
       "    </tr>\n",
       "    <tr>\n",
       "      <th>1</th>\n",
       "      <td>2</td>\n",
       "      <td>thin and crispy</td>\n",
       "    </tr>\n",
       "  </tbody>\n",
       "</table>\n",
       "</div>"
      ],
      "text/plain": [
       "   crust_type_id  crust_type_name\n",
       "0              1      hand-tossed\n",
       "1              2  thin and crispy"
      ]
     },
     "metadata": {},
     "output_type": "display_data"
    }
   ],
   "source": [
    "print(f'ID Field: {crust_types_id_field}\\n')\n",
    "show_df(crust_types)"
   ]
  },
  {
   "cell_type": "markdown",
   "metadata": {},
   "source": [
    "#### crust_types Key Statistics"
   ]
  },
  {
   "cell_type": "code",
   "execution_count": 101,
   "metadata": {},
   "outputs": [
    {
     "name": "stdout",
     "output_type": "stream",
     "text": [
      "There are 2 records in this table\n",
      "2 crust_types_ids in the range 1 - 2\n",
      "Is crust_type_id unique? True\n"
     ]
    }
   ],
   "source": [
    "print(f'There are {crust_types_record_count} records in this table')\n",
    "\n",
    "# Count of unique crust_type_id\n",
    "crust_type_count = crust_types.crust_type_id.nunique()\n",
    "crust_type_min = crust_types.crust_type_id.min()\n",
    "crust_type_max = crust_types.crust_type_id.max()\n",
    "print(f'\\n{crust_type_count} crust_types_ids in the range {crust_type_min} - {crust_type_max}')\n",
    "print(f'Is crust_type_id unique? {crust_types_record_count == crust_type_count}')"
   ]
  },
  {
   "cell_type": "markdown",
   "metadata": {},
   "source": [
    "#### crust_types evaluation\n",
    "`CRUST_TYPES_ID` is unique\n",
    "\n",
    "***strictly a lookup table***"
   ]
  },
  {
   "cell_type": "markdown",
   "metadata": {},
   "source": [
    "### sizes"
   ]
  },
  {
   "cell_type": "code",
   "execution_count": 77,
   "metadata": {
    "tags": []
   },
   "outputs": [
    {
     "name": "stdout",
     "output_type": "stream",
     "text": [
      "ID Field: size_id\n",
      "\n",
      "<class 'pandas.core.frame.DataFrame'>\n",
      "RangeIndex: 4 entries, 0 to 3\n",
      "Data columns (total 3 columns):\n",
      " #   Column      Non-Null Count  Dtype  \n",
      "---  ------      --------------  -----  \n",
      " 0   size_id     4 non-null      int64  \n",
      " 1   size_name   4 non-null      object \n",
      " 2   size_price  4 non-null      float64\n",
      "dtypes: float64(1), int64(1), object(1)\n",
      "memory usage: 224.0+ bytes\n",
      "None\n"
     ]
    },
    {
     "data": {
      "text/html": [
       "<div>\n",
       "<style scoped>\n",
       "    .dataframe tbody tr th:only-of-type {\n",
       "        vertical-align: middle;\n",
       "    }\n",
       "\n",
       "    .dataframe tbody tr th {\n",
       "        vertical-align: top;\n",
       "    }\n",
       "\n",
       "    .dataframe thead th {\n",
       "        text-align: right;\n",
       "    }\n",
       "</style>\n",
       "<table border=\"1\" class=\"dataframe\">\n",
       "  <thead>\n",
       "    <tr style=\"text-align: right;\">\n",
       "      <th></th>\n",
       "      <th>size_id</th>\n",
       "      <th>size_name</th>\n",
       "      <th>size_price</th>\n",
       "    </tr>\n",
       "  </thead>\n",
       "  <tbody>\n",
       "    <tr>\n",
       "      <th>0</th>\n",
       "      <td>1</td>\n",
       "      <td>small</td>\n",
       "      <td>8.99</td>\n",
       "    </tr>\n",
       "    <tr>\n",
       "      <th>1</th>\n",
       "      <td>2</td>\n",
       "      <td>medium</td>\n",
       "      <td>10.99</td>\n",
       "    </tr>\n",
       "    <tr>\n",
       "      <th>2</th>\n",
       "      <td>3</td>\n",
       "      <td>large</td>\n",
       "      <td>12.99</td>\n",
       "    </tr>\n",
       "    <tr>\n",
       "      <th>3</th>\n",
       "      <td>4</td>\n",
       "      <td>x-large</td>\n",
       "      <td>14.99</td>\n",
       "    </tr>\n",
       "  </tbody>\n",
       "</table>\n",
       "</div>"
      ],
      "text/plain": [
       "   size_id size_name  size_price\n",
       "0        1     small        8.99\n",
       "1        2    medium       10.99\n",
       "2        3     large       12.99\n",
       "3        4   x-large       14.99"
      ]
     },
     "metadata": {},
     "output_type": "display_data"
    }
   ],
   "source": [
    "print(f'ID Field: {sizes_id_field}\\n')\n",
    "show_df(sizes)"
   ]
  },
  {
   "cell_type": "code",
   "execution_count": 100,
   "metadata": {},
   "outputs": [
    {
     "name": "stdout",
     "output_type": "stream",
     "text": [
      "There are 4 records in this table\n",
      "4 sizes_ids in the range 1 - 4\n",
      "Is size_id unique? True\n"
     ]
    }
   ],
   "source": [
    "print(f'There are {sizes_record_count} records in this table')\n",
    "\n",
    "# Count of unique size_id\n",
    "size_id_count = sizes.size_id.nunique()\n",
    "size_id_min = sizes.size_id.min()\n",
    "size_id_max = sizes.size_id.max()\n",
    "print(f'\\n{size_id_count} sizes_ids in the range {size_id_min} - {size_id_max}')\n",
    "print(f'Is size_id unique? {sizes_record_count == size_id_count}')"
   ]
  },
  {
   "cell_type": "markdown",
   "metadata": {},
   "source": [
    "#### sizes evaluation\n",
    "`SIZES_ID` is unique\n",
    "\n",
    "***strictly a lookup table***"
   ]
  },
  {
   "cell_type": "markdown",
   "metadata": {},
   "source": [
    "### toppings"
   ]
  },
  {
   "cell_type": "code",
   "execution_count": 82,
   "metadata": {
    "scrolled": true,
    "tags": []
   },
   "outputs": [
    {
     "name": "stdout",
     "output_type": "stream",
     "text": [
      "ID Field: topping_id\n",
      "\n",
      "<class 'pandas.core.frame.DataFrame'>\n",
      "RangeIndex: 9 entries, 0 to 8\n",
      "Data columns (total 3 columns):\n",
      " #   Column         Non-Null Count  Dtype  \n",
      "---  ------         --------------  -----  \n",
      " 0   topping_id     9 non-null      int64  \n",
      " 1   topping_name   9 non-null      object \n",
      " 2   topping_price  9 non-null      float64\n",
      "dtypes: float64(1), int64(1), object(1)\n",
      "memory usage: 344.0+ bytes\n",
      "None\n"
     ]
    },
    {
     "data": {
      "text/html": [
       "<div>\n",
       "<style scoped>\n",
       "    .dataframe tbody tr th:only-of-type {\n",
       "        vertical-align: middle;\n",
       "    }\n",
       "\n",
       "    .dataframe tbody tr th {\n",
       "        vertical-align: top;\n",
       "    }\n",
       "\n",
       "    .dataframe thead th {\n",
       "        text-align: right;\n",
       "    }\n",
       "</style>\n",
       "<table border=\"1\" class=\"dataframe\">\n",
       "  <thead>\n",
       "    <tr style=\"text-align: right;\">\n",
       "      <th></th>\n",
       "      <th>topping_id</th>\n",
       "      <th>topping_name</th>\n",
       "      <th>topping_price</th>\n",
       "    </tr>\n",
       "  </thead>\n",
       "  <tbody>\n",
       "    <tr>\n",
       "      <th>0</th>\n",
       "      <td>1</td>\n",
       "      <td>pepperoni</td>\n",
       "      <td>0.99</td>\n",
       "    </tr>\n",
       "    <tr>\n",
       "      <th>1</th>\n",
       "      <td>2</td>\n",
       "      <td>sausage</td>\n",
       "      <td>0.99</td>\n",
       "    </tr>\n",
       "    <tr>\n",
       "      <th>2</th>\n",
       "      <td>3</td>\n",
       "      <td>bacon</td>\n",
       "      <td>0.99</td>\n",
       "    </tr>\n",
       "    <tr>\n",
       "      <th>3</th>\n",
       "      <td>4</td>\n",
       "      <td>canadian bacon</td>\n",
       "      <td>0.99</td>\n",
       "    </tr>\n",
       "    <tr>\n",
       "      <th>4</th>\n",
       "      <td>5</td>\n",
       "      <td>onion</td>\n",
       "      <td>0.49</td>\n",
       "    </tr>\n",
       "  </tbody>\n",
       "</table>\n",
       "</div>"
      ],
      "text/plain": [
       "   topping_id    topping_name  topping_price\n",
       "0           1       pepperoni           0.99\n",
       "1           2         sausage           0.99\n",
       "2           3           bacon           0.99\n",
       "3           4  canadian bacon           0.99\n",
       "4           5           onion           0.49"
      ]
     },
     "metadata": {},
     "output_type": "display_data"
    }
   ],
   "source": [
    "print(f'ID Field: {toppings_id_field}\\n')\n",
    "show_df(toppings)"
   ]
  },
  {
   "cell_type": "markdown",
   "metadata": {},
   "source": [
    "#### toppings Key Statistics"
   ]
  },
  {
   "cell_type": "code",
   "execution_count": 99,
   "metadata": {},
   "outputs": [
    {
     "name": "stdout",
     "output_type": "stream",
     "text": [
      "There are 9 records in this table\n",
      "9 topping_ids in the range 1 - 9\n",
      "Is topping_id unique? True\n"
     ]
    }
   ],
   "source": [
    "print(f'There are {toppings_record_count} records in this table')\n",
    "\n",
    "# Count of unique TOPPINGS_ID\n",
    "topping_id_count = toppings.topping_id.nunique()\n",
    "topping_id_min = toppings.topping_id.min()\n",
    "topping_id_max = toppings.topping_id.max()\n",
    "print(f'\\n{topping_id_count} topping_ids in the range {topping_id_min} - {topping_id_max}')\n",
    "print(f'Is topping_id unique? {toppings_record_count == topping_id_count}')"
   ]
  },
  {
   "cell_type": "markdown",
   "metadata": {},
   "source": [
    "#### toppings evaluation\n",
    "`TOPPINGS_ID` is unique\n",
    "\n",
    "***strictly a lookup table***"
   ]
  },
  {
   "cell_type": "markdown",
   "metadata": {},
   "source": [
    "### modifiers"
   ]
  },
  {
   "cell_type": "code",
   "execution_count": 84,
   "metadata": {
    "tags": []
   },
   "outputs": [
    {
     "name": "stdout",
     "output_type": "stream",
     "text": [
      "ID Field: modifier_id\n",
      "\n",
      "<class 'pandas.core.frame.DataFrame'>\n",
      "RangeIndex: 3 entries, 0 to 2\n",
      "Data columns (total 3 columns):\n",
      " #   Column          Non-Null Count  Dtype  \n",
      "---  ------          --------------  -----  \n",
      " 0   modifier_id     3 non-null      int64  \n",
      " 1   modifier_name   3 non-null      object \n",
      " 2   modifier_price  3 non-null      float64\n",
      "dtypes: float64(1), int64(1), object(1)\n",
      "memory usage: 200.0+ bytes\n",
      "None\n"
     ]
    },
    {
     "data": {
      "text/html": [
       "<div>\n",
       "<style scoped>\n",
       "    .dataframe tbody tr th:only-of-type {\n",
       "        vertical-align: middle;\n",
       "    }\n",
       "\n",
       "    .dataframe tbody tr th {\n",
       "        vertical-align: top;\n",
       "    }\n",
       "\n",
       "    .dataframe thead th {\n",
       "        text-align: right;\n",
       "    }\n",
       "</style>\n",
       "<table border=\"1\" class=\"dataframe\">\n",
       "  <thead>\n",
       "    <tr style=\"text-align: right;\">\n",
       "      <th></th>\n",
       "      <th>modifier_id</th>\n",
       "      <th>modifier_name</th>\n",
       "      <th>modifier_price</th>\n",
       "    </tr>\n",
       "  </thead>\n",
       "  <tbody>\n",
       "    <tr>\n",
       "      <th>0</th>\n",
       "      <td>1</td>\n",
       "      <td>extra cheese</td>\n",
       "      <td>1.99</td>\n",
       "    </tr>\n",
       "    <tr>\n",
       "      <th>1</th>\n",
       "      <td>2</td>\n",
       "      <td>well done</td>\n",
       "      <td>0.00</td>\n",
       "    </tr>\n",
       "    <tr>\n",
       "      <th>2</th>\n",
       "      <td>3</td>\n",
       "      <td>no cheese</td>\n",
       "      <td>0.00</td>\n",
       "    </tr>\n",
       "  </tbody>\n",
       "</table>\n",
       "</div>"
      ],
      "text/plain": [
       "   modifier_id modifier_name  modifier_price\n",
       "0            1  extra cheese            1.99\n",
       "1            2     well done            0.00\n",
       "2            3     no cheese            0.00"
      ]
     },
     "metadata": {},
     "output_type": "display_data"
    }
   ],
   "source": [
    "print(f'ID Field: {modifiers_id_field}\\n')\n",
    "show_df(modifiers)"
   ]
  },
  {
   "cell_type": "markdown",
   "metadata": {},
   "source": [
    "#### modifiers Key Statistics"
   ]
  },
  {
   "cell_type": "code",
   "execution_count": 86,
   "metadata": {},
   "outputs": [
    {
     "name": "stdout",
     "output_type": "stream",
     "text": [
      "There are 3 records in this table\n",
      "3 modifiers_id_fields in the range 1 - 3\n",
      "Is modifier_id unique? True\n"
     ]
    }
   ],
   "source": [
    "print(f'There are {modifiers_record_count} records in this table')\n",
    "\n",
    "# Count of unique modifier_id\n",
    "modifier_id_count = modifiers.modifier_id.nunique()\n",
    "modifier_id_min = modifiers.modifier_id.min()\n",
    "modifier_id_max = modifiers.modifier_id.max()\n",
    "print(f'\\n{modifier_id_count} modifiers_id_fields in the range {modifier_id_min} - {modifier_id_max}')\n",
    "print(f'Is modifier_id unique? {modifiers_record_count == modifier_id_count}')"
   ]
  },
  {
   "cell_type": "markdown",
   "metadata": {},
   "source": [
    "#### modifiers evaluation\n",
    "`modifier_id` is unique\n",
    "\n",
    "***strictly a lookup table***"
   ]
  },
  {
   "cell_type": "markdown",
   "metadata": {},
   "source": [
    "### pizzas"
   ]
  },
  {
   "cell_type": "code",
   "execution_count": 87,
   "metadata": {
    "tags": []
   },
   "outputs": [
    {
     "name": "stdout",
     "output_type": "stream",
     "text": [
      "ID Field: pizza_id\n",
      "\n",
      "<class 'pandas.core.frame.DataFrame'>\n",
      "RangeIndex: 20001 entries, 0 to 20000\n",
      "Data columns (total 4 columns):\n",
      " #   Column         Non-Null Count  Dtype\n",
      "---  ------         --------------  -----\n",
      " 0   pizza_id       20001 non-null  int64\n",
      " 1   order_id       20001 non-null  int64\n",
      " 2   crust_type_id  20001 non-null  int64\n",
      " 3   size_id        20001 non-null  int64\n",
      "dtypes: int64(4)\n",
      "memory usage: 625.2 KB\n",
      "None\n"
     ]
    },
    {
     "data": {
      "text/html": [
       "<div>\n",
       "<style scoped>\n",
       "    .dataframe tbody tr th:only-of-type {\n",
       "        vertical-align: middle;\n",
       "    }\n",
       "\n",
       "    .dataframe tbody tr th {\n",
       "        vertical-align: top;\n",
       "    }\n",
       "\n",
       "    .dataframe thead th {\n",
       "        text-align: right;\n",
       "    }\n",
       "</style>\n",
       "<table border=\"1\" class=\"dataframe\">\n",
       "  <thead>\n",
       "    <tr style=\"text-align: right;\">\n",
       "      <th></th>\n",
       "      <th>pizza_id</th>\n",
       "      <th>order_id</th>\n",
       "      <th>crust_type_id</th>\n",
       "      <th>size_id</th>\n",
       "    </tr>\n",
       "  </thead>\n",
       "  <tbody>\n",
       "    <tr>\n",
       "      <th>0</th>\n",
       "      <td>1001</td>\n",
       "      <td>1001</td>\n",
       "      <td>2</td>\n",
       "      <td>1</td>\n",
       "    </tr>\n",
       "    <tr>\n",
       "      <th>1</th>\n",
       "      <td>1002</td>\n",
       "      <td>1001</td>\n",
       "      <td>2</td>\n",
       "      <td>2</td>\n",
       "    </tr>\n",
       "    <tr>\n",
       "      <th>2</th>\n",
       "      <td>1003</td>\n",
       "      <td>1002</td>\n",
       "      <td>2</td>\n",
       "      <td>1</td>\n",
       "    </tr>\n",
       "    <tr>\n",
       "      <th>3</th>\n",
       "      <td>1004</td>\n",
       "      <td>1003</td>\n",
       "      <td>2</td>\n",
       "      <td>3</td>\n",
       "    </tr>\n",
       "    <tr>\n",
       "      <th>4</th>\n",
       "      <td>1005</td>\n",
       "      <td>1004</td>\n",
       "      <td>1</td>\n",
       "      <td>4</td>\n",
       "    </tr>\n",
       "  </tbody>\n",
       "</table>\n",
       "</div>"
      ],
      "text/plain": [
       "   pizza_id  order_id  crust_type_id  size_id\n",
       "0      1001      1001              2        1\n",
       "1      1002      1001              2        2\n",
       "2      1003      1002              2        1\n",
       "3      1004      1003              2        3\n",
       "4      1005      1004              1        4"
      ]
     },
     "metadata": {},
     "output_type": "display_data"
    }
   ],
   "source": [
    "print(f'ID Field: {pizzas_id_field}\\n')\n",
    "show_df(pizzas)"
   ]
  },
  {
   "cell_type": "markdown",
   "metadata": {},
   "source": [
    "#### pizzas Key Statistics"
   ]
  },
  {
   "cell_type": "code",
   "execution_count": 94,
   "metadata": {},
   "outputs": [
    {
     "name": "stdout",
     "output_type": "stream",
     "text": [
      "There are 20001 records in this table\n",
      "20001 pizza_id in the range 1001 - 21001\n",
      "Is pizza_id unique? True\n"
     ]
    }
   ],
   "source": [
    "print(f'There are {pizzas_record_count} records in this table')\n",
    "\n",
    "# Count of unique pizza_id\n",
    "pizza_id_count = pizzas.pizza_id.nunique()\n",
    "pizza_id_min = pizzas.pizza_id.min()\n",
    "pizza_id_max = pizzas.pizza_id.max()\n",
    "print(f'\\n{pizza_id_count} pizza_ids in the range {pizza_id_min} - {pizza_id_max}')\n",
    "print(f'Is pizza_id unique? {pizzas_record_count == pizza_id_count}')"
   ]
  },
  {
   "cell_type": "code",
   "execution_count": 95,
   "metadata": {},
   "outputs": [
    {
     "name": "stdout",
     "output_type": "stream",
     "text": [
      "10000 order_id in the range 1001 - 11000\n",
      "Is order_id unique? False\n"
     ]
    }
   ],
   "source": [
    "# Count of unique pizza_order_id\n",
    "pizza_order_id_count = pizzas.order_id.nunique()\n",
    "pizza_order_id_min = pizzas.order_id.min()\n",
    "pizza_order_id_max = pizzas.order_id.max()\n",
    "print(f'\\n{pizza_order_id_count} order_id in the range {pizza_order_id_min} - {pizza_order_id_max}')\n",
    "print(f'Is order_id unique? {pizzas_record_count == pizza_order_id_count}')"
   ]
  },
  {
   "cell_type": "code",
   "execution_count": 96,
   "metadata": {},
   "outputs": [
    {
     "name": "stdout",
     "output_type": "stream",
     "text": [
      "The biggest order has 8 pizzas\n"
     ]
    }
   ],
   "source": [
    "# most pizzas on one order\n",
    "order_pizza_count = pizzas.order_id.value_counts()\n",
    "order_pizza_max = order_pizza_count.max()\n",
    "print(f'The biggest order has {order_pizza_max} pizzas')"
   ]
  },
  {
   "cell_type": "markdown",
   "metadata": {
    "scrolled": true
   },
   "source": [
    "#### pizzas evaluation\n",
    "`pizza_id` is not unique\n",
    "`pizza_order_id` is not unique\n",
    "\n",
    "\n",
    "***strictly a lookup table***"
   ]
  },
  {
   "cell_type": "code",
   "execution_count": null,
   "metadata": {},
   "outputs": [],
   "source": []
  },
  {
   "cell_type": "markdown",
   "metadata": {},
   "source": [
    "### pizza_toppings"
   ]
  },
  {
   "cell_type": "code",
   "execution_count": 97,
   "metadata": {
    "tags": []
   },
   "outputs": [
    {
     "name": "stdout",
     "output_type": "stream",
     "text": [
      "ID Field: pizza_id\n",
      "\n",
      "<class 'pandas.core.frame.DataFrame'>\n",
      "RangeIndex: 47654 entries, 0 to 47653\n",
      "Data columns (total 3 columns):\n",
      " #   Column          Non-Null Count  Dtype \n",
      "---  ------          --------------  ----- \n",
      " 0   pizza_id        47654 non-null  int64 \n",
      " 1   topping_id      47654 non-null  int64 \n",
      " 2   topping_amount  47654 non-null  object\n",
      "dtypes: int64(2), object(1)\n",
      "memory usage: 1.1+ MB\n",
      "None\n"
     ]
    },
    {
     "data": {
      "text/html": [
       "<div>\n",
       "<style scoped>\n",
       "    .dataframe tbody tr th:only-of-type {\n",
       "        vertical-align: middle;\n",
       "    }\n",
       "\n",
       "    .dataframe tbody tr th {\n",
       "        vertical-align: top;\n",
       "    }\n",
       "\n",
       "    .dataframe thead th {\n",
       "        text-align: right;\n",
       "    }\n",
       "</style>\n",
       "<table border=\"1\" class=\"dataframe\">\n",
       "  <thead>\n",
       "    <tr style=\"text-align: right;\">\n",
       "      <th></th>\n",
       "      <th>pizza_id</th>\n",
       "      <th>topping_id</th>\n",
       "      <th>topping_amount</th>\n",
       "    </tr>\n",
       "  </thead>\n",
       "  <tbody>\n",
       "    <tr>\n",
       "      <th>0</th>\n",
       "      <td>1001</td>\n",
       "      <td>5</td>\n",
       "      <td>extra</td>\n",
       "    </tr>\n",
       "    <tr>\n",
       "      <th>1</th>\n",
       "      <td>1001</td>\n",
       "      <td>4</td>\n",
       "      <td>regular</td>\n",
       "    </tr>\n",
       "    <tr>\n",
       "      <th>2</th>\n",
       "      <td>1002</td>\n",
       "      <td>9</td>\n",
       "      <td>regular</td>\n",
       "    </tr>\n",
       "    <tr>\n",
       "      <th>3</th>\n",
       "      <td>1002</td>\n",
       "      <td>1</td>\n",
       "      <td>regular</td>\n",
       "    </tr>\n",
       "    <tr>\n",
       "      <th>4</th>\n",
       "      <td>1002</td>\n",
       "      <td>6</td>\n",
       "      <td>regular</td>\n",
       "    </tr>\n",
       "  </tbody>\n",
       "</table>\n",
       "</div>"
      ],
      "text/plain": [
       "   pizza_id  topping_id topping_amount\n",
       "0      1001           5          extra\n",
       "1      1001           4        regular\n",
       "2      1002           9        regular\n",
       "3      1002           1        regular\n",
       "4      1002           6        regular"
      ]
     },
     "metadata": {},
     "output_type": "display_data"
    }
   ],
   "source": [
    "print(f'ID Field: {pizza_toppings_id_field}\\n')\n",
    "show_df(pizza_toppings)"
   ]
  },
  {
   "cell_type": "markdown",
   "metadata": {},
   "source": [
    "print(f'ID Field: {pizza_toppings_id_field}\\n')\n",
    "show_df(pizza_toppings)\n",
    "\n",
    "MD CELL:\n",
    "#### pizza_toppings Key Statistics\n",
    "\n",
    "CODE CELL - REPLACE EVERYTHING IN ALL CAPS:\n",
    "\n",
    "\n",
    "MD CELL - SPECIFY WHETHER ID IS OR IS NOT UNIQUE:\n"
   ]
  },
  {
   "cell_type": "code",
   "execution_count": 103,
   "metadata": {},
   "outputs": [
    {
     "name": "stdout",
     "output_type": "stream",
     "text": [
      "There are 47654 records in this table\n",
      "17453 pizza_toppings_id_fields in the range 1001 - 21001\n",
      "Is pizza_id unique? False\n",
      "9 topping_id in the range 1 - 9\n",
      "Is topping_id unique? False\n",
      "47654 pizza_topping_combos\n",
      "Is pizza_topping_combo unique? True\n"
     ]
    }
   ],
   "source": [
    "print(f'There are {pizza_toppings_record_count} records in this table')\n",
    "\n",
    "# Count of unique pizza_id\n",
    "topped_pizza_count = pizza_toppings.pizza_id.nunique()\n",
    "topped_pizza_min = pizza_toppings.pizza_id.min()\n",
    "topped_pizza_max = pizza_toppings.pizza_id.max()\n",
    "print(f'\\n{topped_pizza_count} pizza_toppings_id_fields in the range {topped_pizza_min} - {topped_pizza_max}')\n",
    "print(f'Is pizza_id unique? {pizza_toppings_record_count == topped_pizza_count}')\n",
    "\n",
    "# Count of unique topping_id\n",
    "pizza_topping_count = pizza_toppings.topping_id.nunique()\n",
    "pizza_topping_min = pizza_toppings.topping_id.min()\n",
    "pizza_topping_max = pizza_toppings.topping_id.max()\n",
    "print(f'\\n{pizza_topping_count} topping_id in the range {pizza_topping_min} - {pizza_topping_max}')\n",
    "print(f'Is topping_id unique? {pizza_toppings_record_count == pizza_topping_count}')\n",
    "\n",
    "# Count of unique pizza_id/topping_id combo\n",
    "pizza_topping_combos = pizza_toppings.groupby(by=['pizza_id', 'topping_id']).count()\n",
    "pizza_topping_combos_count = pizza_topping_combos.shape[0]\n",
    "pizza_toppings_count = pizza_toppings.pizza_id.value_counts().value_counts()\n",
    "print(f'\\n{pizza_topping_combos_count} pizza_topping_combos')\n",
    "print(f'Is pizza_topping_combo unique? {pizza_toppings_record_count == pizza_topping_combos_count}')"
   ]
  },
  {
   "cell_type": "code",
   "execution_count": 22,
   "metadata": {
    "tags": []
   },
   "outputs": [
    {
     "name": "stdout",
     "output_type": "stream",
     "text": [
      "17453 pizzas topped\n",
      "Is pizza_id unique? False\n",
      "Is topping_id unique? False\n",
      "Is pizza_id unique? False\n",
      "Is every pizza topped? False\n",
      "Toppings available: 9, Max toppings on one pizza: 9\n",
      "Toppings unused: 0\n"
     ]
    }
   ],
   "source": [
    "# Key Statistics\n",
    "topped_pizza_count = pizza_toppings.pizza_id.nunique()\n",
    "topped_pizza_min = pizza_toppings.pizza_id.min()\n",
    "topped_pizza_max = pizza_toppings.pizza_id.max()\n",
    "pizza_toppings_max = pizza_toppings.pizza_id.value_counts().max()\n",
    "pizza_topping_freq = pizza_toppings.topping_id.value_counts()\n",
    "pizza_topping_amount_freq = pizza_toppings.topping_amount.value_counts()\n",
    "\n",
    "print(f'{topped_pizza_count} pizzas topped')\n",
    "print(f'Is pizza_id unique? {topped_pizza_count == pizza_toppings_record_count}')\n",
    "print(f'Is topping_id unique? {topped_pizza_count == pizza_toppings_record_count}')\n",
    "print(f'Is pizza_id unique? {topped_pizza_count == pizza_toppings_record_count}')\n",
    "\n",
    "print(f'Is every pizza topped? {topped_pizza_count == pizzas_record_count}')\n",
    "print(f'Toppings available: {len(pizza_topping_freq)}, Max toppings on one pizza: {pizza_toppings_max}')\n",
    "print(f'Toppings unused: {len(pizza_topping_freq) - pizza_toppings_max}')\n"
   ]
  },
  {
   "cell_type": "code",
   "execution_count": null,
   "metadata": {},
   "outputs": [],
   "source": [
    "#### pizza_toppings evaluation\n",
    "`PIZZA_TOPPINGS_ID` is not unique\n",
    "EVAL"
   ]
  },
  {
   "cell_type": "code",
   "execution_count": 23,
   "metadata": {
    "tags": []
   },
   "outputs": [
    {
     "data": {
      "text/plain": [
       "1    5070\n",
       "2    4336\n",
       "3    3207\n",
       "4    2163\n",
       "5    1353\n",
       "6     717\n",
       "7     371\n",
       "8     149\n",
       "9      87\n",
       "Name: pizza_id, dtype: int64"
      ]
     },
     "execution_count": 23,
     "metadata": {},
     "output_type": "execute_result"
    }
   ],
   "source": [
    "# topping count frequency\n",
    "pizza_toppings_count"
   ]
  },
  {
   "cell_type": "code",
   "execution_count": 24,
   "metadata": {},
   "outputs": [
    {
     "data": {
      "text/plain": [
       "regular    23704\n",
       "extra      14301\n",
       "double      7318\n",
       "light       2331\n",
       "Name: topping_amount, dtype: int64"
      ]
     },
     "execution_count": 24,
     "metadata": {},
     "output_type": "execute_result"
    }
   ],
   "source": [
    "# identify topping amounts\n",
    "pizza_toppings.topping_amount.value_counts().head()"
   ]
  },
  {
   "cell_type": "code",
   "execution_count": 25,
   "metadata": {},
   "outputs": [
    {
     "data": {
      "text/plain": [
       "1    5415\n",
       "2    5273\n",
       "3    5276\n",
       "4    5340\n",
       "5    5305\n",
       "6    5286\n",
       "7    5315\n",
       "8    5177\n",
       "9    5267\n",
       "Name: topping_id, dtype: int64"
      ]
     },
     "execution_count": 25,
     "metadata": {},
     "output_type": "execute_result"
    }
   ],
   "source": [
    "# frequency by topping\n",
    "pizza_toppings.topping_id.value_counts().sort_index()"
   ]
  },
  {
   "cell_type": "markdown",
   "metadata": {},
   "source": [
    "### pizza_modifiers"
   ]
  },
  {
   "cell_type": "markdown",
   "metadata": {},
   "source": [
    "CODE CELL:\n",
    "print(f'ID Field: {pizza_modifiers_id_field}\\n')\n",
    "show_df(pizza_modifiers)\n",
    "\n",
    "MD CELL:\n",
    "#### pizza_modifiers Key Statistics\n",
    "\n",
    "CODE CELL - REPLACE EVERYTHING IN ALL CAPS:\n",
    "print(f'There are {pizza_modifiers_record_count} records in this table')\n",
    "\n",
    "# Count of unique PIZZA_MODIFIERS_ID\n",
    "PIZZA_MODIFIERS_ID_count = pizza_modifiers.PIZZA_MODIFIERS_ID.nunique()\n",
    "PIZZA_MODIFIERS_ID_min = pizza_modifiers.PIZZA_MODIFIERS_ID.min()\n",
    "PIZZA_MODIFIERS_ID_max = pizza_modifiers.PIZZA_MODIFIERS_ID.max()\n",
    "print(f'{PIZZA_MODIFIERS_ID_count} pizza_modifiers_id_fields in the range {PIZZA_MODIFIERS_ID_min} - {PIZZA_MODIFIERS_ID_max}')\n",
    "print(f'Is PIZZA_MODIFIERS_ID unique? {pizza_modifiers_record_count == PIZZA_MODIFIERS_ID_count}')\n",
    "\n",
    "MD CELL - SPECIFY WHETHER ID IS OR IS NOT UNIQUE:\n",
    "#### pizza_modifiers evaluation\n",
    "`PIZZA_MODIFIERS_ID` is not unique\n",
    "EVAL"
   ]
  },
  {
   "cell_type": "code",
   "execution_count": 26,
   "metadata": {
    "tags": []
   },
   "outputs": [
    {
     "name": "stdout",
     "output_type": "stream",
     "text": [
      "<class 'pandas.core.frame.DataFrame'>\n",
      "RangeIndex: 6585 entries, 0 to 6584\n",
      "Data columns (total 2 columns):\n",
      " #   Column       Non-Null Count  Dtype\n",
      "---  ------       --------------  -----\n",
      " 0   pizza_id     6585 non-null   int64\n",
      " 1   modifier_id  6585 non-null   int64\n",
      "dtypes: int64(2)\n",
      "memory usage: 103.0 KB\n",
      "None\n"
     ]
    },
    {
     "data": {
      "text/html": [
       "<div>\n",
       "<style scoped>\n",
       "    .dataframe tbody tr th:only-of-type {\n",
       "        vertical-align: middle;\n",
       "    }\n",
       "\n",
       "    .dataframe tbody tr th {\n",
       "        vertical-align: top;\n",
       "    }\n",
       "\n",
       "    .dataframe thead th {\n",
       "        text-align: right;\n",
       "    }\n",
       "</style>\n",
       "<table border=\"1\" class=\"dataframe\">\n",
       "  <thead>\n",
       "    <tr style=\"text-align: right;\">\n",
       "      <th></th>\n",
       "      <th>pizza_id</th>\n",
       "      <th>modifier_id</th>\n",
       "    </tr>\n",
       "  </thead>\n",
       "  <tbody>\n",
       "    <tr>\n",
       "      <th>0</th>\n",
       "      <td>1005</td>\n",
       "      <td>1</td>\n",
       "    </tr>\n",
       "    <tr>\n",
       "      <th>1</th>\n",
       "      <td>1009</td>\n",
       "      <td>1</td>\n",
       "    </tr>\n",
       "    <tr>\n",
       "      <th>2</th>\n",
       "      <td>1022</td>\n",
       "      <td>3</td>\n",
       "    </tr>\n",
       "    <tr>\n",
       "      <th>3</th>\n",
       "      <td>1025</td>\n",
       "      <td>2</td>\n",
       "    </tr>\n",
       "    <tr>\n",
       "      <th>4</th>\n",
       "      <td>1026</td>\n",
       "      <td>3</td>\n",
       "    </tr>\n",
       "  </tbody>\n",
       "</table>\n",
       "</div>"
      ],
      "text/plain": [
       "   pizza_id  modifier_id\n",
       "0      1005            1\n",
       "1      1009            1\n",
       "2      1022            3\n",
       "3      1025            2\n",
       "4      1026            3"
      ]
     },
     "metadata": {},
     "output_type": "display_data"
    }
   ],
   "source": [
    "show_df(pizza_modifiers)"
   ]
  },
  {
   "cell_type": "code",
   "execution_count": 27,
   "metadata": {
    "tags": []
   },
   "outputs": [
    {
     "name": "stdout",
     "output_type": "stream",
     "text": [
      "6585 pizzas modified\n",
      "Is pizza_id unique? True\n",
      "Is every pizza modified? False\n"
     ]
    }
   ],
   "source": [
    "# Key Statistics\n",
    "modified_pizzas_count = pizza_modifiers.pizza_id.nunique()\n",
    "pizza_modified_min = pizza_modifiers.pizza_id.min()\n",
    "pizza_modified_max = pizza_modifiers.pizza_id.max()\n",
    "\n",
    "print(f'{modified_pizzas_count} pizzas modified')\n",
    "print(f'Is pizza_id unique? {modified_pizzas_count == pizza_modifiers_record_count}')\n",
    "print(f'Is every pizza modified? {modified_pizzas_count == pizzas_record_count}')"
   ]
  },
  {
   "cell_type": "code",
   "execution_count": 28,
   "metadata": {
    "tags": []
   },
   "outputs": [
    {
     "name": "stdout",
     "output_type": "stream",
     "text": [
      "2    2209\n",
      "3    2193\n",
      "1    2183\n",
      "Name: modifier_id, dtype: int64\n"
     ]
    }
   ],
   "source": [
    "# modifier frequency\n",
    "print(pizza_modifiers.modifier_id.value_counts().head())"
   ]
  },
  {
   "cell_type": "code",
   "execution_count": 29,
   "metadata": {
    "tags": []
   },
   "outputs": [
    {
     "data": {
      "text/plain": [
       "3"
      ]
     },
     "execution_count": 29,
     "metadata": {},
     "output_type": "execute_result"
    }
   ],
   "source": [
    "pizza_modifiers.modifier_id.nunique()"
   ]
  },
  {
   "cell_type": "markdown",
   "metadata": {},
   "source": [
    "## Questions"
   ]
  },
  {
   "cell_type": "markdown",
   "metadata": {},
   "source": [
    "### Q.1\n",
    "**What information is stored in the `toppings` table? How does this table relate to the `pizzas` table?**"
   ]
  },
  {
   "cell_type": "markdown",
   "metadata": {},
   "source": [
    "Topping id, name, and price. \n",
    "\n",
    "`pizzas.pizza_id` **1:0-M** `pizza_toppings.pizza_id`\n",
    "\n",
    "`pizza_toppings.topping_id` **M:1** `toppings.topping_id`"
   ]
  },
  {
   "cell_type": "markdown",
   "metadata": {},
   "source": [
    "### Q.2\n",
    "**What information is stored in the `modifiers` table? How does this table relate to the `pizzas` table?**"
   ]
  },
  {
   "cell_type": "markdown",
   "metadata": {},
   "source": [
    "Modifier id, name, and price. \n",
    "\n",
    "`pizzas.pizza_id` **1:0-1** `pizza_modifiers.pizza_id`\n",
    "\n",
    "`pizza_modifiers.modifier_id` **M:1** `modifiers.modifier_id`"
   ]
  },
  {
   "cell_type": "markdown",
   "metadata": {},
   "source": [
    "### Q.3\n",
    "**How are the `pizzas` and `sizes` tables related?**"
   ]
  },
  {
   "cell_type": "markdown",
   "metadata": {},
   "source": [
    "`pizzas.size_id` **M:1** `sizes.size_id`"
   ]
  },
  {
   "cell_type": "markdown",
   "metadata": {},
   "source": [
    "### Q.4\n",
    "**What other tables are in the database?**"
   ]
  },
  {
   "cell_type": "code",
   "execution_count": null,
   "metadata": {},
   "outputs": [],
   "source": []
  },
  {
   "cell_type": "markdown",
   "metadata": {},
   "source": [
    "`pizzas.size_id` **M:1** `crusts.crust_id`"
   ]
  },
  {
   "cell_type": "markdown",
   "metadata": {},
   "source": [
    "### Q.5\n",
    "**How many unique toppings are there?**"
   ]
  },
  {
   "cell_type": "code",
   "execution_count": 30,
   "metadata": {
    "tags": []
   },
   "outputs": [
    {
     "ename": "NameError",
     "evalue": "name 'topping_count' is not defined",
     "output_type": "error",
     "traceback": [
      "\u001b[0;31m---------------------------------------------------------------------------\u001b[0m",
      "\u001b[0;31mNameError\u001b[0m                                 Traceback (most recent call last)",
      "\u001b[0;32m<ipython-input-30-885c242acbfd>\u001b[0m in \u001b[0;36m<module>\u001b[0;34m\u001b[0m\n\u001b[0;32m----> 1\u001b[0;31m \u001b[0mprint\u001b[0m\u001b[0;34m(\u001b[0m\u001b[0mtopping_count\u001b[0m\u001b[0;34m)\u001b[0m\u001b[0;34m\u001b[0m\u001b[0;34m\u001b[0m\u001b[0m\n\u001b[0m",
      "\u001b[0;31mNameError\u001b[0m: name 'topping_count' is not defined"
     ]
    }
   ],
   "source": [
    "print(topping_count)"
   ]
  },
  {
   "cell_type": "markdown",
   "metadata": {},
   "source": [
    "### Q.6\n",
    "**How many unique orders are in this dataset?**"
   ]
  },
  {
   "cell_type": "code",
   "execution_count": 31,
   "metadata": {
    "tags": []
   },
   "outputs": [
    {
     "name": "stdout",
     "output_type": "stream",
     "text": [
      "There are 10000 unique orders\n"
     ]
    }
   ],
   "source": [
    "print(f'There are {order_count} unique orders') "
   ]
  },
  {
   "cell_type": "markdown",
   "metadata": {},
   "source": [
    "### Q.7\n",
    "**Which size of pizza is sold the most?**"
   ]
  },
  {
   "cell_type": "code",
   "execution_count": null,
   "metadata": {},
   "outputs": [],
   "source": []
  },
  {
   "cell_type": "markdown",
   "metadata": {},
   "source": [
    "### Q.8\n",
    "**How many pizzas have been sold in total?**"
   ]
  },
  {
   "cell_type": "code",
   "execution_count": null,
   "metadata": {},
   "outputs": [],
   "source": []
  },
  {
   "cell_type": "markdown",
   "metadata": {},
   "source": [
    "### Q.9\n",
    "**What is the most common size of pizza ordered?**"
   ]
  },
  {
   "cell_type": "code",
   "execution_count": null,
   "metadata": {},
   "outputs": [],
   "source": []
  },
  {
   "cell_type": "markdown",
   "metadata": {},
   "source": [
    "### Q.10\n",
    "**What is the average number of pizzas per order?**"
   ]
  },
  {
   "cell_type": "code",
   "execution_count": null,
   "metadata": {},
   "outputs": [],
   "source": []
  },
  {
   "cell_type": "markdown",
   "metadata": {},
   "source": [
    "### Q.11\n",
    "**Find the total price for each order. The total price is the sum of:**\n",
    "\n",
    "- **The price based on pizza size**\n",
    "- **Any modifiers that need to be charged for**\n",
    "- **The sum of the topping prices**\n",
    "\n",
    "**Topping price is affected by the amount of the topping specified. A light amount is half of the regular price. An extra amount is 1.5 times the regular price, and double of the topping is double the price.**"
   ]
  },
  {
   "cell_type": "code",
   "execution_count": null,
   "metadata": {},
   "outputs": [],
   "source": []
  },
  {
   "cell_type": "markdown",
   "metadata": {},
   "source": [
    "### Q.12\n",
    "**What is the average price of pizzas that have no cheese?**"
   ]
  },
  {
   "cell_type": "code",
   "execution_count": null,
   "metadata": {},
   "outputs": [],
   "source": []
  },
  {
   "cell_type": "markdown",
   "metadata": {},
   "source": [
    "### Q.13\n",
    "**What is the most common size for pizzas that have extra cheese?**"
   ]
  },
  {
   "cell_type": "code",
   "execution_count": null,
   "metadata": {},
   "outputs": [],
   "source": []
  },
  {
   "cell_type": "markdown",
   "metadata": {},
   "source": [
    "### Q.14\n",
    "**What is the most common topping for pizzas that are well done?**"
   ]
  },
  {
   "cell_type": "code",
   "execution_count": null,
   "metadata": {},
   "outputs": [],
   "source": []
  },
  {
   "cell_type": "markdown",
   "metadata": {},
   "source": [
    "### Q.15\n",
    "**How many pizzas are only cheese (i.e. have no toppings)?**"
   ]
  },
  {
   "cell_type": "code",
   "execution_count": null,
   "metadata": {},
   "outputs": [],
   "source": []
  },
  {
   "cell_type": "markdown",
   "metadata": {},
   "source": [
    "### Q.16\n",
    "**How many orders consist of pizza(s) that are only cheese? What is the average price of these orders? The most common pizza size?**"
   ]
  },
  {
   "cell_type": "code",
   "execution_count": null,
   "metadata": {},
   "outputs": [],
   "source": []
  },
  {
   "cell_type": "markdown",
   "metadata": {},
   "source": [
    "### Q.17\n",
    "**How may large pizzas have olives on them?**"
   ]
  },
  {
   "cell_type": "code",
   "execution_count": null,
   "metadata": {},
   "outputs": [],
   "source": []
  },
  {
   "cell_type": "markdown",
   "metadata": {},
   "source": [
    "### Q.18\n",
    "**What is the average number of toppings per pizza?**"
   ]
  },
  {
   "cell_type": "code",
   "execution_count": null,
   "metadata": {},
   "outputs": [],
   "source": []
  },
  {
   "cell_type": "markdown",
   "metadata": {},
   "source": [
    "### Q.19\n",
    "**What is the average number of pizzas per order?**"
   ]
  },
  {
   "cell_type": "code",
   "execution_count": null,
   "metadata": {},
   "outputs": [],
   "source": []
  },
  {
   "cell_type": "markdown",
   "metadata": {},
   "source": [
    "### Q.20\n",
    "**What is the average pizza price?**"
   ]
  },
  {
   "cell_type": "code",
   "execution_count": null,
   "metadata": {},
   "outputs": [],
   "source": []
  },
  {
   "cell_type": "markdown",
   "metadata": {},
   "source": [
    "### Q.21\n",
    "**What is the average order total?**"
   ]
  },
  {
   "cell_type": "code",
   "execution_count": null,
   "metadata": {},
   "outputs": [],
   "source": []
  },
  {
   "cell_type": "markdown",
   "metadata": {},
   "source": [
    "### Q.22\n",
    "**What is the average number of items per order?**"
   ]
  },
  {
   "cell_type": "code",
   "execution_count": null,
   "metadata": {},
   "outputs": [],
   "source": []
  },
  {
   "cell_type": "markdown",
   "metadata": {},
   "source": [
    "### Q.23\n",
    "**What is the average number of toppings per pizza for each size of pizza?**"
   ]
  },
  {
   "cell_type": "code",
   "execution_count": null,
   "metadata": {},
   "outputs": [],
   "source": []
  },
  {
   "cell_type": "markdown",
   "metadata": {},
   "source": [
    "### Q.24\n",
    "**What is the average order total for orders that contain more than 1 pizza?**"
   ]
  },
  {
   "cell_type": "code",
   "execution_count": null,
   "metadata": {},
   "outputs": [],
   "source": []
  },
  {
   "cell_type": "markdown",
   "metadata": {},
   "source": [
    "### Q.25\n",
    "**What is the most common pizza size for orders that contain only a single pizza?**"
   ]
  },
  {
   "cell_type": "code",
   "execution_count": null,
   "metadata": {},
   "outputs": [],
   "source": []
  },
  {
   "cell_type": "markdown",
   "metadata": {},
   "source": [
    "### Q.26\n",
    "**How many orders consist of 3+ pizzas? What is the average number of toppings for these orders?**"
   ]
  },
  {
   "cell_type": "code",
   "execution_count": null,
   "metadata": {},
   "outputs": [],
   "source": []
  },
  {
   "cell_type": "markdown",
   "metadata": {},
   "source": [
    "### Q.27\n",
    "**What is the most common topping on large and extra large pizzas?**"
   ]
  },
  {
   "cell_type": "code",
   "execution_count": null,
   "metadata": {},
   "outputs": [],
   "source": []
  },
  {
   "cell_type": "markdown",
   "metadata": {},
   "source": [
    "### Q.28\n",
    "**What is the most common topping for orders that consist of 2 pizzas?**"
   ]
  },
  {
   "cell_type": "code",
   "execution_count": null,
   "metadata": {},
   "outputs": [],
   "source": []
  },
  {
   "cell_type": "markdown",
   "metadata": {},
   "source": [
    "### Q.29\n",
    "**Which size of pizza most frequently has modifiers?**"
   ]
  },
  {
   "cell_type": "code",
   "execution_count": null,
   "metadata": {},
   "outputs": [],
   "source": []
  },
  {
   "cell_type": "markdown",
   "metadata": {},
   "source": [
    "### Q.30\n",
    "**What percentage of pizzas with hot sauce have extra cheese?**"
   ]
  },
  {
   "cell_type": "code",
   "execution_count": null,
   "metadata": {},
   "outputs": [],
   "source": []
  },
  {
   "cell_type": "markdown",
   "metadata": {},
   "source": [
    "### Q.31\n",
    "**What is the average order price for orders that have at least 1 pizza with pineapple?**"
   ]
  },
  {
   "cell_type": "code",
   "execution_count": null,
   "metadata": {},
   "outputs": [],
   "source": []
  }
 ],
 "metadata": {
  "kernelspec": {
   "display_name": "Python 3",
   "language": "python",
   "name": "python3"
  },
  "language_info": {
   "codemirror_mode": {
    "name": "ipython",
    "version": 3
   },
   "file_extension": ".py",
   "mimetype": "text/x-python",
   "name": "python",
   "nbconvert_exporter": "python",
   "pygments_lexer": "ipython3",
   "version": "3.7.6"
  }
 },
 "nbformat": 4,
 "nbformat_minor": 4
}
