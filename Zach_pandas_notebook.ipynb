{
 "cells": [
  {
   "cell_type": "markdown",
   "metadata": {},
   "source": [
    "# Zach Pandas Exercises"
   ]
  },
  {
   "cell_type": "code",
   "execution_count": 1,
   "metadata": {},
   "outputs": [],
   "source": [
    "import pandas as pd\n",
    "import sqlite3\n",
    "\n",
    "connection = sqlite3.connect('pizza.sqlite') # or specify the path to the db file"
   ]
  },
  {
   "cell_type": "code",
   "execution_count": 2,
   "metadata": {},
   "outputs": [],
   "source": [
    "pizza_tables = [\n",
    "    'crust_types', \n",
    "    'modifiers', \n",
    "    'pizza_modifiers', \n",
    "    'pizza_topppings', \n",
    "    'pizza_toppings', \n",
    "    'pizzas', \n",
    "    'sizes', \n",
    "    'toppings'\n",
    "]"
   ]
  },
  {
   "cell_type": "code",
   "execution_count": 3,
   "metadata": {
    "tags": []
   },
   "outputs": [
    {
     "output_type": "stream",
     "name": "stdout",
     "text": "crust_types = pd.read_sql('SELECT * FROM crust_types ', connection)\nmodifiers = pd.read_sql('SELECT * FROM modifiers ', connection)\npizza_modifiers = pd.read_sql('SELECT * FROM pizza_modifiers ', connection)\npizza_topppings = pd.read_sql('SELECT * FROM pizza_topppings ', connection)\npizza_toppings = pd.read_sql('SELECT * FROM pizza_toppings ', connection)\npizzas = pd.read_sql('SELECT * FROM pizzas ', connection)\nsizes = pd.read_sql('SELECT * FROM sizes ', connection)\ntoppings = pd.read_sql('SELECT * FROM toppings ', connection)\n"
    }
   ],
   "source": [
    "for t in pizza_tables:\n",
    "    print(t, '= pd.read_sql(\\'SELECT * FROM', t, '\\', connection)')"
   ]
  },
  {
   "cell_type": "code",
   "execution_count": 4,
   "metadata": {},
   "outputs": [],
   "source": [
    "crust_types = pd.read_sql('SELECT * FROM crust_types ', connection)\n",
    "modifiers = pd.read_sql('SELECT * FROM modifiers ', connection)\n",
    "pizza_modifiers = pd.read_sql('SELECT * FROM pizza_modifiers ', connection)\n",
    "pizza_topppings = pd.read_sql('SELECT * FROM pizza_topppings ', connection)\n",
    "pizza_toppings = pd.read_sql('SELECT * FROM pizza_toppings ', connection)\n",
    "pizzas = pd.read_sql('SELECT * FROM pizzas ', connection)\n",
    "sizes = pd.read_sql('SELECT * FROM sizes ', connection)\n",
    "toppings = pd.read_sql('SELECT * FROM toppings ', connection)"
   ]
  },
  {
   "cell_type": "code",
   "execution_count": 5,
   "metadata": {
    "tags": []
   },
   "outputs": [
    {
     "output_type": "stream",
     "name": "stdout",
     "text": "print(crust_types.info())\nprint(modifiers.info())\nprint(pizza_modifiers.info())\nprint(pizza_topppings.info())\nprint(pizza_toppings.info())\nprint(pizzas.info())\nprint(sizes.info())\nprint(toppings.info())\n"
    }
   ],
   "source": [
    "for t in pizza_tables:\n",
    "    print('print('+t+'.info())')"
   ]
  },
  {
   "cell_type": "code",
   "execution_count": 6,
   "metadata": {
    "tags": []
   },
   "outputs": [
    {
     "output_type": "stream",
     "name": "stdout",
     "text": "<class 'pandas.core.frame.DataFrame'>\nRangeIndex: 2 entries, 0 to 1\nData columns (total 2 columns):\n #   Column           Non-Null Count  Dtype \n---  ------           --------------  ----- \n 0   crust_type_id    2 non-null      int64 \n 1   crust_type_name  2 non-null      object\ndtypes: int64(1), object(1)\nmemory usage: 160.0+ bytes\nNone\n"
    }
   ],
   "source": [
    "print(crust_types.info())"
   ]
  },
  {
   "cell_type": "code",
   "execution_count": 7,
   "metadata": {
    "tags": []
   },
   "outputs": [
    {
     "output_type": "stream",
     "name": "stdout",
     "text": "<class 'pandas.core.frame.DataFrame'>\nRangeIndex: 3 entries, 0 to 2\nData columns (total 3 columns):\n #   Column          Non-Null Count  Dtype  \n---  ------          --------------  -----  \n 0   modifier_id     3 non-null      int64  \n 1   modifier_name   3 non-null      object \n 2   modifier_price  3 non-null      float64\ndtypes: float64(1), int64(1), object(1)\nmemory usage: 200.0+ bytes\nNone\n"
    }
   ],
   "source": [
    "print(modifiers.info())"
   ]
  },
  {
   "cell_type": "code",
   "execution_count": 8,
   "metadata": {
    "tags": []
   },
   "outputs": [
    {
     "output_type": "stream",
     "name": "stdout",
     "text": "<class 'pandas.core.frame.DataFrame'>\nRangeIndex: 6645 entries, 0 to 6644\nData columns (total 2 columns):\n #   Column       Non-Null Count  Dtype\n---  ------       --------------  -----\n 0   pizza_id     6645 non-null   int64\n 1   modifier_id  6645 non-null   int64\ndtypes: int64(2)\nmemory usage: 104.0 KB\nNone\n"
    }
   ],
   "source": [
    "print(pizza_modifiers.info())"
   ]
  },
  {
   "cell_type": "code",
   "execution_count": 9,
   "metadata": {
    "tags": []
   },
   "outputs": [
    {
     "output_type": "stream",
     "name": "stdout",
     "text": "<class 'pandas.core.frame.DataFrame'>\nIndex: 0 entries\nData columns (total 3 columns):\n #   Column      Non-Null Count  Dtype \n---  ------      --------------  ----- \n 0   pizza_id    0 non-null      object\n 1   topping_id  0 non-null      object\n 2   amount      0 non-null      object\ndtypes: object(3)\nmemory usage: 0.0+ bytes\nNone\n"
    }
   ],
   "source": [
    "print(pizza_topppings.info())"
   ]
  },
  {
   "cell_type": "code",
   "execution_count": 10,
   "metadata": {
    "tags": []
   },
   "outputs": [
    {
     "output_type": "stream",
     "name": "stdout",
     "text": "<class 'pandas.core.frame.DataFrame'>\nRangeIndex: 47062 entries, 0 to 47061\nData columns (total 3 columns):\n #   Column          Non-Null Count  Dtype \n---  ------          --------------  ----- \n 0   pizza_id        47062 non-null  int64 \n 1   topping_id      47062 non-null  int64 \n 2   topping_amount  47062 non-null  object\ndtypes: int64(2), object(1)\nmemory usage: 1.1+ MB\nNone\n"
    }
   ],
   "source": [
    "print(pizza_toppings.info())"
   ]
  },
  {
   "cell_type": "code",
   "execution_count": 11,
   "metadata": {
    "tags": []
   },
   "outputs": [
    {
     "output_type": "stream",
     "name": "stdout",
     "text": "<class 'pandas.core.frame.DataFrame'>\nRangeIndex: 19934 entries, 0 to 19933\nData columns (total 4 columns):\n #   Column         Non-Null Count  Dtype\n---  ------         --------------  -----\n 0   pizza_id       19934 non-null  int64\n 1   order_id       19934 non-null  int64\n 2   crust_type_id  19934 non-null  int64\n 3   size_id        19934 non-null  int64\ndtypes: int64(4)\nmemory usage: 623.1 KB\nNone\n"
    }
   ],
   "source": [
    "print(pizzas.info())"
   ]
  },
  {
   "cell_type": "code",
   "execution_count": 12,
   "metadata": {
    "tags": []
   },
   "outputs": [
    {
     "output_type": "stream",
     "name": "stdout",
     "text": "<class 'pandas.core.frame.DataFrame'>\nRangeIndex: 4 entries, 0 to 3\nData columns (total 3 columns):\n #   Column      Non-Null Count  Dtype  \n---  ------      --------------  -----  \n 0   size_id     4 non-null      int64  \n 1   size_name   4 non-null      object \n 2   size_price  4 non-null      float64\ndtypes: float64(1), int64(1), object(1)\nmemory usage: 224.0+ bytes\nNone\n"
    }
   ],
   "source": [
    "print(sizes.info())"
   ]
  },
  {
   "cell_type": "code",
   "execution_count": 13,
   "metadata": {
    "tags": []
   },
   "outputs": [
    {
     "output_type": "stream",
     "name": "stdout",
     "text": "<class 'pandas.core.frame.DataFrame'>\nRangeIndex: 9 entries, 0 to 8\nData columns (total 3 columns):\n #   Column         Non-Null Count  Dtype  \n---  ------         --------------  -----  \n 0   topping_id     9 non-null      int64  \n 1   topping_name   9 non-null      object \n 2   topping_price  9 non-null      float64\ndtypes: float64(1), int64(1), object(1)\nmemory usage: 344.0+ bytes\nNone\n"
    }
   ],
   "source": [
    "print(toppings.info())"
   ]
  },
  {
   "cell_type": "code",
   "execution_count": null,
   "metadata": {},
   "outputs": [],
   "source": []
  },
  {
   "cell_type": "code",
   "execution_count": null,
   "metadata": {},
   "outputs": [],
   "source": []
  },
  {
   "cell_type": "code",
   "execution_count": null,
   "metadata": {},
   "outputs": [],
   "source": []
  },
  {
   "cell_type": "code",
   "execution_count": null,
   "metadata": {},
   "outputs": [],
   "source": []
  }
 ],
 "metadata": {
  "kernelspec": {
   "display_name": "Python 3",
   "language": "python",
   "name": "python3"
  },
  "language_info": {
   "codemirror_mode": {
    "name": "ipython",
    "version": 3
   },
   "file_extension": ".py",
   "mimetype": "text/x-python",
   "name": "python",
   "nbconvert_exporter": "python",
   "pygments_lexer": "ipython3",
   "version": "3.7.7-final"
  }
 },
 "nbformat": 4,
 "nbformat_minor": 4
}